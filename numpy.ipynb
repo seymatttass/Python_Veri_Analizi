{
 "cells": [
  {
   "cell_type": "code",
   "execution_count": 1,
   "id": "6579fd1b-8232-43cb-b3ef-55836996e249",
   "metadata": {
    "tags": []
   },
   "outputs": [
    {
     "name": "stdout",
     "output_type": "stream",
     "text": [
      "a\n"
     ]
    }
   ],
   "source": [
    "print(\"a\")"
   ]
  },
  {
   "cell_type": "markdown",
   "id": "2d285e81-7896-4e92-a586-022aa65929d3",
   "metadata": {
    "tags": []
   },
   "source": [
    "# NEDEN NUMPY ?"
   ]
  },
  {
   "cell_type": "markdown",
   "id": "9a49df4c-db50-470f-94e6-03877d72f2a9",
   "metadata": {},
   "source": [
    "## BU BİR ALTBAŞLIKTIR."
   ]
  },
  {
   "cell_type": "code",
   "execution_count": 6,
   "id": "7c2f1ece-3346-4072-a3c8-c4e90f06adb9",
   "metadata": {
    "tags": []
   },
   "outputs": [
    {
     "data": {
      "text/plain": [
       "[2, 3, 4, 5]"
      ]
     },
     "execution_count": 6,
     "metadata": {},
     "output_type": "execute_result"
    }
   ],
   "source": [
    "a = [1,2,3,4]\n",
    "b = [2,3,4,5]     \n",
    "a\n",
    "b"
   ]
  },
  {
   "cell_type": "markdown",
   "id": "f7fcffa2-012f-4369-96fc-b4451ecfaa1c",
   "metadata": {},
   "source": [
    "a = [1,2,3,4]\n",
    "b = [2,3,4,5]     \n",
    "a\n",
    "b\n",
    "\n",
    "\n",
    "üstteki gibi a b tanımladıktan sonra a b yazıp çağırırsak sadece en alttakini getirecektir."
   ]
  },
  {
   "cell_type": "code",
   "execution_count": 7,
   "id": "740c024f-b144-4e3c-9b52-94d1824c43e9",
   "metadata": {
    "tags": []
   },
   "outputs": [
    {
     "data": {
      "text/plain": [
       "[1, 2, 3, 4]"
      ]
     },
     "execution_count": 7,
     "metadata": {},
     "output_type": "execute_result"
    }
   ],
   "source": [
    "a"
   ]
  },
  {
   "cell_type": "code",
   "execution_count": 8,
   "id": "743b3966-58d6-4978-b8c2-c86352a73729",
   "metadata": {
    "tags": []
   },
   "outputs": [
    {
     "data": {
      "text/plain": [
       "[2, 6, 12, 20]"
      ]
     },
     "execution_count": 8,
     "metadata": {},
     "output_type": "execute_result"
    }
   ],
   "source": [
    "ab =[]\n",
    "\n",
    "for i in range(0,len(a)):\n",
    "    ab.append(a[i]*b[i])\n",
    "ab"
   ]
  },
  {
   "cell_type": "code",
   "execution_count": 9,
   "id": "934f7fda-4178-4462-ba8e-d57ece6eee7f",
   "metadata": {
    "tags": []
   },
   "outputs": [],
   "source": [
    "import numpy as np"
   ]
  },
  {
   "cell_type": "code",
   "execution_count": 10,
   "id": "153d6178-dc3b-41e1-804f-4a2b25d7bbe5",
   "metadata": {
    "tags": []
   },
   "outputs": [],
   "source": [
    "a = np.array([1,2,3,4])\n",
    "b = np.array([2,3,4,5])"
   ]
  },
  {
   "cell_type": "code",
   "execution_count": 11,
   "id": "e73c3f4c-fef0-4ee4-bbb8-9223d2cdee67",
   "metadata": {
    "tags": []
   },
   "outputs": [
    {
     "data": {
      "text/plain": [
       "array([ 2,  6, 12, 20])"
      ]
     },
     "execution_count": 11,
     "metadata": {},
     "output_type": "execute_result"
    }
   ],
   "source": [
    "a*b"
   ]
  },
  {
   "cell_type": "markdown",
   "id": "4ebb9205-d258-493e-84c7-81b3f31d0929",
   "metadata": {},
   "source": [
    "# NUMPY ARRAY'I OLUŞTURMAK"
   ]
  },
  {
   "cell_type": "code",
   "execution_count": 12,
   "id": "94d85c28-37d7-4d22-a4b0-0034b5f45239",
   "metadata": {
    "tags": []
   },
   "outputs": [],
   "source": [
    "import numpy as np"
   ]
  },
  {
   "cell_type": "code",
   "execution_count": 13,
   "id": "cbebd7de-3ed5-4c31-9100-0d9b82711e74",
   "metadata": {
    "tags": []
   },
   "outputs": [],
   "source": [
    "a = np.array([1,2,3,4])"
   ]
  },
  {
   "cell_type": "code",
   "execution_count": 14,
   "id": "1789a822-4262-4172-8152-804965c42504",
   "metadata": {
    "tags": []
   },
   "outputs": [
    {
     "data": {
      "text/plain": [
       "numpy.ndarray"
      ]
     },
     "execution_count": 14,
     "metadata": {},
     "output_type": "execute_result"
    }
   ],
   "source": [
    "type(a)"
   ]
  },
  {
   "cell_type": "code",
   "execution_count": 16,
   "id": "cae88e37-5460-42d6-aa20-a3c672c0d6a7",
   "metadata": {
    "tags": []
   },
   "outputs": [
    {
     "data": {
      "text/plain": [
       "array([ 3.14,  4.  ,  2.  , 13.  ])"
      ]
     },
     "execution_count": 16,
     "metadata": {},
     "output_type": "execute_result"
    }
   ],
   "source": [
    "np.array([3.14,4,2,13])"
   ]
  },
  {
   "cell_type": "markdown",
   "id": "ef73f9e9-28e5-499f-b77f-e9d625460c94",
   "metadata": {},
   "source": [
    "tüm sayıları ondalığa çevirdi sabit tip vardır numpy arrayde."
   ]
  },
  {
   "cell_type": "code",
   "execution_count": 17,
   "id": "a68b1cb8-d73f-4e2b-b286-50af8c590039",
   "metadata": {
    "tags": []
   },
   "outputs": [
    {
     "data": {
      "text/plain": [
       "array([ 3,  4,  2, 13])"
      ]
     },
     "execution_count": 17,
     "metadata": {},
     "output_type": "execute_result"
    }
   ],
   "source": [
    "np.array([3.14,4,2,13], dtype = \"int\")"
   ]
  },
  {
   "cell_type": "markdown",
   "id": "c1bf7cff-0ef7-41bf-929b-25eba0c93d19",
   "metadata": {},
   "source": [
    "# sıfırdan array oluşturma"
   ]
  },
  {
   "cell_type": "code",
   "execution_count": 27,
   "id": "d32ea8ff-1f32-420d-be33-7b9ce790e057",
   "metadata": {
    "tags": []
   },
   "outputs": [
    {
     "data": {
      "text/plain": [
       "array([0, 0, 0, 0, 0, 0, 0, 0, 0, 0])"
      ]
     },
     "execution_count": 27,
     "metadata": {},
     "output_type": "execute_result"
    }
   ],
   "source": [
    "np.zeros(10,dtype = int) #tek boyutlu array 0 lardan oluşan"
   ]
  },
  {
   "cell_type": "code",
   "execution_count": 26,
   "id": "73389a66-3f1f-44ad-a719-eb90c92085bd",
   "metadata": {
    "tags": []
   },
   "outputs": [
    {
     "data": {
      "text/plain": [
       "array([[1, 1, 1, 1, 1],\n",
       "       [1, 1, 1, 1, 1],\n",
       "       [1, 1, 1, 1, 1]])"
      ]
     },
     "execution_count": 26,
     "metadata": {},
     "output_type": "execute_result"
    }
   ],
   "source": [
    "np.ones((3,5),dtype = int) #iki boyutlu array 1 lerden oluşan"
   ]
  },
  {
   "cell_type": "code",
   "execution_count": 28,
   "id": "b760bb03-3e24-4d7d-9458-e1ef3c50cd71",
   "metadata": {
    "tags": []
   },
   "outputs": [
    {
     "data": {
      "text/plain": [
       "array([[3, 3, 3, 3, 3],\n",
       "       [3, 3, 3, 3, 3],\n",
       "       [3, 3, 3, 3, 3]])"
      ]
     },
     "execution_count": 28,
     "metadata": {},
     "output_type": "execute_result"
    }
   ],
   "source": [
    "np.full((3,5),3) #3 lerden oluşan 3x5 lik dizi"
   ]
  },
  {
   "cell_type": "code",
   "execution_count": 29,
   "id": "01b824ef-1520-4eeb-bbea-f01db7f680b7",
   "metadata": {
    "tags": []
   },
   "outputs": [
    {
     "data": {
      "text/plain": [
       "array([ 0,  3,  6,  9, 12, 15, 18, 21, 24, 27, 30])"
      ]
     },
     "execution_count": 29,
     "metadata": {},
     "output_type": "execute_result"
    }
   ],
   "source": [
    "np.arange(0,31,3)  #0 dan 31 e kadar üçer üçer artacak şekilde dizi oluşturu."
   ]
  },
  {
   "cell_type": "code",
   "execution_count": 30,
   "id": "29d2f4a2-8b30-4d3c-9dc3-0f84b72521fd",
   "metadata": {
    "tags": []
   },
   "outputs": [
    {
     "data": {
      "text/plain": [
       "array([0.        , 0.11111111, 0.22222222, 0.33333333, 0.44444444,\n",
       "       0.55555556, 0.66666667, 0.77777778, 0.88888889, 1.        ])"
      ]
     },
     "execution_count": 30,
     "metadata": {},
     "output_type": "execute_result"
    }
   ],
   "source": [
    "np.linspace(0,1,10) #0 ile 1 arasında 10 tane sayı oluştur."
   ]
  },
  {
   "cell_type": "code",
   "execution_count": 31,
   "id": "0b449213-169b-4825-96cc-a665fc00d45f",
   "metadata": {
    "tags": []
   },
   "outputs": [
    {
     "data": {
      "text/plain": [
       "array([[ 2.28545287,  6.89331096,  9.96509313,  8.1233958 ],\n",
       "       [ 4.86052487,  8.84601917, 12.8784824 , 13.13320759],\n",
       "       [12.04272516, -0.83348157,  0.85251653, 12.46818181]])"
      ]
     },
     "execution_count": 31,
     "metadata": {},
     "output_type": "execute_result"
    }
   ],
   "source": [
    "np.random.normal(10,4,(3,4)) # ort:10 sp:4 3x4 lük array oluştur"
   ]
  },
  {
   "cell_type": "code",
   "execution_count": 34,
   "id": "601f896b-5691-4dce-8799-e4f014a8585a",
   "metadata": {
    "tags": []
   },
   "outputs": [
    {
     "data": {
      "text/plain": [
       "array([[5, 3, 1],\n",
       "       [1, 6, 4],\n",
       "       [3, 5, 9]])"
      ]
     },
     "execution_count": 34,
     "metadata": {},
     "output_type": "execute_result"
    }
   ],
   "source": [
    "np.random.randint(0,10,(3,3)) # 0-10 arası int değerlerden rastgele array"
   ]
  },
  {
   "cell_type": "markdown",
   "id": "6edd9761-b86d-44ba-b075-1172303a0cc3",
   "metadata": {},
   "source": [
    "* **ndim:** _boyut sayısı_\n",
    "* shape: boyut bilgisi\n",
    "* size: toplam eleman sayısı\n",
    "* dtype: array veri tipi"
   ]
  },
  {
   "cell_type": "code",
   "execution_count": 35,
   "id": "e62da818-576a-4c01-b504-86abd5736562",
   "metadata": {
    "tags": []
   },
   "outputs": [],
   "source": [
    "import numpy as np"
   ]
  },
  {
   "cell_type": "code",
   "execution_count": null,
   "id": "7688b0ef-a870-457a-b033-46cbc7919c57",
   "metadata": {},
   "outputs": [],
   "source": [
    "np.random.randint(10,size=10) #0-10 arası rastgele 10 tane int değerler oluşturdu."
   ]
  },
  {
   "cell_type": "code",
   "execution_count": 38,
   "id": "d325cd73-8ab0-4cc7-96a3-4bf5fcf629c8",
   "metadata": {
    "tags": []
   },
   "outputs": [],
   "source": [
    "a = np.random.randint(10,size=10) # kayıt ettik."
   ]
  },
  {
   "cell_type": "code",
   "execution_count": 39,
   "id": "74ed3852-7f56-46a9-9d06-76cc7ade0cab",
   "metadata": {
    "tags": []
   },
   "outputs": [
    {
     "data": {
      "text/plain": [
       "1"
      ]
     },
     "execution_count": 39,
     "metadata": {},
     "output_type": "execute_result"
    }
   ],
   "source": [
    "a.ndim #boyut bilgisini verdi 1"
   ]
  },
  {
   "cell_type": "code",
   "execution_count": 41,
   "id": "17a0fdf6-2b28-440a-800b-3be334dbc2dd",
   "metadata": {
    "tags": []
   },
   "outputs": [
    {
     "data": {
      "text/plain": [
       "(10,)"
      ]
     },
     "execution_count": 41,
     "metadata": {},
     "output_type": "execute_result"
    }
   ],
   "source": [
    "a.shape   #tek boyutlu old. için tek boyut bilgisi veriliyor."
   ]
  },
  {
   "cell_type": "code",
   "execution_count": 43,
   "id": "5925db6a-d468-480d-b8f4-953d1b095d24",
   "metadata": {
    "tags": []
   },
   "outputs": [
    {
     "data": {
      "text/plain": [
       "dtype('int32')"
      ]
     },
     "execution_count": 43,
     "metadata": {},
     "output_type": "execute_result"
    }
   ],
   "source": [
    "a.dtype   #içerisinin int tipini vermiş oldu."
   ]
  },
  {
   "cell_type": "code",
   "execution_count": 48,
   "id": "bbc7b026-2318-4e01-a573-7a3ef98c637b",
   "metadata": {
    "tags": []
   },
   "outputs": [],
   "source": [
    "b = np.random.randint(10,size =(3,5)) #3x5 lik array 0-10 arası sayılar"
   ]
  },
  {
   "cell_type": "code",
   "execution_count": 47,
   "id": "89b656fc-6ee7-4575-bf81-1d8c620f427e",
   "metadata": {
    "tags": []
   },
   "outputs": [
    {
     "data": {
      "text/plain": [
       "array([[1, 8, 5, 7, 2],\n",
       "       [6, 2, 6, 7, 5],\n",
       "       [1, 0, 6, 5, 5]])"
      ]
     },
     "execution_count": 47,
     "metadata": {},
     "output_type": "execute_result"
    }
   ],
   "source": [
    "b"
   ]
  },
  {
   "cell_type": "code",
   "execution_count": 49,
   "id": "c0ad8ad4-a88a-4963-9f21-dadb2b8e90a7",
   "metadata": {
    "tags": []
   },
   "outputs": [
    {
     "data": {
      "text/plain": [
       "2"
      ]
     },
     "execution_count": 49,
     "metadata": {},
     "output_type": "execute_result"
    }
   ],
   "source": [
    "b.ndim"
   ]
  },
  {
   "cell_type": "code",
   "execution_count": 50,
   "id": "a41e7396-a5bd-42e0-8e33-7247e9accff3",
   "metadata": {
    "tags": []
   },
   "outputs": [
    {
     "data": {
      "text/plain": [
       "(3, 5)"
      ]
     },
     "execution_count": 50,
     "metadata": {},
     "output_type": "execute_result"
    }
   ],
   "source": [
    "b.shape"
   ]
  },
  {
   "cell_type": "code",
   "execution_count": 51,
   "id": "f12a2db3-b97a-438a-bf04-6f6dbdc091d7",
   "metadata": {
    "tags": []
   },
   "outputs": [
    {
     "data": {
      "text/plain": [
       "dtype('int32')"
      ]
     },
     "execution_count": 51,
     "metadata": {},
     "output_type": "execute_result"
    }
   ],
   "source": [
    "b.dtype"
   ]
  },
  {
   "cell_type": "code",
   "execution_count": 52,
   "id": "92745d64-a7a0-41f0-9e30-e488c77a45ad",
   "metadata": {
    "tags": []
   },
   "outputs": [
    {
     "data": {
      "text/plain": [
       "15"
      ]
     },
     "execution_count": 52,
     "metadata": {},
     "output_type": "execute_result"
    }
   ],
   "source": [
    "b.size"
   ]
  },
  {
   "cell_type": "markdown",
   "id": "ba1d290e-9fb5-41af-a33b-50ce8fde4030",
   "metadata": {
    "tags": []
   },
   "source": [
    "## YENİDEN ŞEKİLLENDİRME (RESHAPİNG)"
   ]
  },
  {
   "cell_type": "code",
   "execution_count": 54,
   "id": "d765b37a-1cca-434d-9d49-7f33b5bb5892",
   "metadata": {
    "tags": []
   },
   "outputs": [],
   "source": [
    "import numpy as np"
   ]
  },
  {
   "cell_type": "code",
   "execution_count": 55,
   "id": "961f6139-b00e-499d-a55a-59ea27413b39",
   "metadata": {
    "tags": []
   },
   "outputs": [
    {
     "data": {
      "text/plain": [
       "array([1, 2, 3, 4, 5, 6, 7, 8, 9])"
      ]
     },
     "execution_count": 55,
     "metadata": {},
     "output_type": "execute_result"
    }
   ],
   "source": [
    "np.arange(1,10) #1-10 dan oluşan array"
   ]
  },
  {
   "cell_type": "code",
   "execution_count": 57,
   "id": "cb1f623c-52f5-417b-8e9c-cde3afd18775",
   "metadata": {
    "tags": []
   },
   "outputs": [
    {
     "data": {
      "text/plain": [
       "array([[1, 2, 3],\n",
       "       [4, 5, 6],\n",
       "       [7, 8, 9]])"
      ]
     },
     "execution_count": 57,
     "metadata": {},
     "output_type": "execute_result"
    }
   ],
   "source": [
    "np.arange(1,10).reshape((3,3))  #3x3 lük bir matrise çevirebilirim"
   ]
  },
  {
   "cell_type": "code",
   "execution_count": 58,
   "id": "96ae7548-6bdd-4224-84de-87e759367f4c",
   "metadata": {
    "tags": []
   },
   "outputs": [],
   "source": [
    "a = np.arange(1,10)"
   ]
  },
  {
   "cell_type": "code",
   "execution_count": 59,
   "id": "d1c38ae9-7d80-443b-a232-236cd258b567",
   "metadata": {
    "tags": []
   },
   "outputs": [
    {
     "data": {
      "text/plain": [
       "array([1, 2, 3, 4, 5, 6, 7, 8, 9])"
      ]
     },
     "execution_count": 59,
     "metadata": {},
     "output_type": "execute_result"
    }
   ],
   "source": [
    "a"
   ]
  },
  {
   "cell_type": "code",
   "execution_count": 62,
   "id": "2143b22f-0f96-441f-9a30-f117bbd7b0f3",
   "metadata": {
    "tags": []
   },
   "outputs": [
    {
     "data": {
      "text/plain": [
       "1"
      ]
     },
     "execution_count": 62,
     "metadata": {},
     "output_type": "execute_result"
    }
   ],
   "source": [
    "a.ndim    #tek boyutlu array = vektör,iki boyutlu array=matris"
   ]
  },
  {
   "cell_type": "code",
   "execution_count": 67,
   "id": "bd50ad84-d37b-4cb3-8caa-1fe2b3d3729b",
   "metadata": {
    "tags": []
   },
   "outputs": [],
   "source": [
    "b = a.reshape((1,9))  #bu çıktıda farklı olarak iki köşeli parantez bulunur.\n",
    "#iki boyutlu matris oldu bir satır 9 sütunlu"
   ]
  },
  {
   "cell_type": "code",
   "execution_count": 68,
   "id": "fca4ef02-2ead-45ef-98ab-67d2fd81b30d",
   "metadata": {
    "tags": []
   },
   "outputs": [
    {
     "data": {
      "text/plain": [
       "2"
      ]
     },
     "execution_count": 68,
     "metadata": {},
     "output_type": "execute_result"
    }
   ],
   "source": [
    "b.ndim"
   ]
  },
  {
   "cell_type": "code",
   "execution_count": null,
   "id": "4671ceb4-905b-4fe6-8b0c-68d58d9aba5f",
   "metadata": {},
   "outputs": [],
   "source": []
  },
  {
   "cell_type": "markdown",
   "id": "28b8bdee-488d-4896-9a31-884dca3784bc",
   "metadata": {},
   "source": [
    "## ARRAY BİRLEŞTİRME (CONCATENATİON)"
   ]
  },
  {
   "cell_type": "code",
   "execution_count": 69,
   "id": "f87daca7-2b20-450e-8399-d5c570cadefb",
   "metadata": {
    "tags": []
   },
   "outputs": [],
   "source": [
    "import numpy as np "
   ]
  },
  {
   "cell_type": "code",
   "execution_count": 70,
   "id": "f4c5c355-7c9f-45bb-b3aa-333eab7675a9",
   "metadata": {
    "tags": []
   },
   "outputs": [],
   "source": [
    "x = np.array([1,2,3])\n",
    "y = np.array([4,5,6])"
   ]
  },
  {
   "cell_type": "code",
   "execution_count": 72,
   "id": "f58ff229-3ad5-482a-8496-ad6a3a4951db",
   "metadata": {
    "tags": []
   },
   "outputs": [
    {
     "data": {
      "text/plain": [
       "array([1, 2, 3, 4, 5, 6])"
      ]
     },
     "execution_count": 72,
     "metadata": {},
     "output_type": "execute_result"
    }
   ],
   "source": [
    "np.concatenate([x,y])   # iki arrayı birleştirdi."
   ]
  },
  {
   "cell_type": "code",
   "execution_count": 73,
   "id": "a94234cd-0e65-4858-b000-953ad3618383",
   "metadata": {
    "tags": []
   },
   "outputs": [],
   "source": [
    "z = np.array([7,8,9])"
   ]
  },
  {
   "cell_type": "code",
   "execution_count": 75,
   "id": "f4158f1a-1064-44f4-96b0-f2e5c1c08cb8",
   "metadata": {
    "tags": []
   },
   "outputs": [
    {
     "data": {
      "text/plain": [
       "array([1, 2, 3, 4, 5, 6, 7, 8, 9])"
      ]
     },
     "execution_count": 75,
     "metadata": {},
     "output_type": "execute_result"
    }
   ],
   "source": [
    "np.concatenate([x,y,z])  # 3 tane numpy arrayı birleştirdik."
   ]
  },
  {
   "cell_type": "markdown",
   "id": "3e6911d8-4fbe-4756-b4e1-d3c4c4fd1124",
   "metadata": {},
   "source": [
    "## İKİ BOYUT"
   ]
  },
  {
   "cell_type": "code",
   "execution_count": 77,
   "id": "68d919b9-02e6-4f1f-9a64-7048d4ef3092",
   "metadata": {
    "tags": []
   },
   "outputs": [],
   "source": [
    "a = np.array([[1,2,3],\n",
    "            [4,5,6]])"
   ]
  },
  {
   "cell_type": "code",
   "execution_count": 79,
   "id": "543676c4-1d4b-415c-a56a-2562444181d0",
   "metadata": {
    "tags": []
   },
   "outputs": [
    {
     "data": {
      "text/plain": [
       "array([[1, 2, 3],\n",
       "       [4, 5, 6],\n",
       "       [1, 2, 3],\n",
       "       [4, 5, 6]])"
      ]
     },
     "execution_count": 79,
     "metadata": {},
     "output_type": "execute_result"
    }
   ],
   "source": [
    "np.concatenate([a,a])  #iki boyutlu birleştirme"
   ]
  },
  {
   "cell_type": "code",
   "execution_count": 80,
   "id": "f0c5f251-d7ee-46d0-8117-9d047ae54b78",
   "metadata": {
    "tags": []
   },
   "outputs": [
    {
     "data": {
      "text/plain": [
       "array([[1, 2, 3],\n",
       "       [4, 5, 6],\n",
       "       [1, 2, 3],\n",
       "       [4, 5, 6]])"
      ]
     },
     "execution_count": 80,
     "metadata": {},
     "output_type": "execute_result"
    }
   ],
   "source": [
    "np.concatenate([a,a],axis = 0) # 0 isesatır bazında, 1 ise sütun bazında birleştirir,yan yana"
   ]
  },
  {
   "cell_type": "code",
   "execution_count": 81,
   "id": "3f9de6dc-12b4-454b-ad41-494b944ec90d",
   "metadata": {
    "tags": []
   },
   "outputs": [
    {
     "data": {
      "text/plain": [
       "array([[1, 2, 3, 1, 2, 3],\n",
       "       [4, 5, 6, 4, 5, 6]])"
      ]
     },
     "execution_count": 81,
     "metadata": {},
     "output_type": "execute_result"
    }
   ],
   "source": [
    "np.concatenate([a,a],axis = 1)"
   ]
  },
  {
   "cell_type": "markdown",
   "id": "2f45c283-e272-4177-a067-11c53955a0da",
   "metadata": {},
   "source": [
    "## ARRAY AYIRMA (SPLİTTİNG)"
   ]
  },
  {
   "cell_type": "markdown",
   "id": "7b17d621-2606-4bb8-8f12-025baaf8449b",
   "metadata": {
    "tags": []
   },
   "source": [
    "import numpy as np"
   ]
  },
  {
   "cell_type": "code",
   "execution_count": 87,
   "id": "2e2eb8f9-852e-4cba-a327-ce4df22c3f6f",
   "metadata": {
    "tags": []
   },
   "outputs": [],
   "source": [
    "x = np.array([1,2,3,99,99,3,2,1])  # 3 ve 5 den ayır.\n",
    "#2 indeks verdiğimiz için 3 ayırıyor,3 verseydik 4 ayırırdı."
   ]
  },
  {
   "cell_type": "code",
   "execution_count": 86,
   "id": "0892eee0-4c7e-42f5-a8fd-17f3e60486d3",
   "metadata": {
    "tags": []
   },
   "outputs": [
    {
     "data": {
      "text/plain": [
       "[array([1, 2, 3]), array([99, 99]), array([3, 2, 1])]"
      ]
     },
     "execution_count": 86,
     "metadata": {},
     "output_type": "execute_result"
    }
   ],
   "source": [
    "np.split(x,[3,5])"
   ]
  },
  {
   "cell_type": "code",
   "execution_count": 88,
   "id": "2d6e33d5-b820-420b-a60f-5e4511b854fd",
   "metadata": {
    "tags": []
   },
   "outputs": [],
   "source": [
    "a,b,c = np.split(x,[3,5])"
   ]
  },
  {
   "cell_type": "code",
   "execution_count": 89,
   "id": "dca3d62f-bd91-4985-b95b-2ca9fd63a334",
   "metadata": {
    "tags": []
   },
   "outputs": [
    {
     "data": {
      "text/plain": [
       "array([1, 2, 3])"
      ]
     },
     "execution_count": 89,
     "metadata": {},
     "output_type": "execute_result"
    }
   ],
   "source": [
    "a"
   ]
  },
  {
   "cell_type": "code",
   "execution_count": 90,
   "id": "5fd24fa7-f746-4a1a-ab4f-6089fc161987",
   "metadata": {
    "tags": []
   },
   "outputs": [
    {
     "data": {
      "text/plain": [
       "array([99, 99])"
      ]
     },
     "execution_count": 90,
     "metadata": {},
     "output_type": "execute_result"
    }
   ],
   "source": [
    "b"
   ]
  },
  {
   "cell_type": "code",
   "execution_count": 91,
   "id": "ef4ce38d-70f4-43e2-b8f7-83635c1cb523",
   "metadata": {
    "tags": []
   },
   "outputs": [
    {
     "data": {
      "text/plain": [
       "array([3, 2, 1])"
      ]
     },
     "execution_count": 91,
     "metadata": {},
     "output_type": "execute_result"
    }
   ],
   "source": [
    "c"
   ]
  },
  {
   "cell_type": "markdown",
   "id": "0af952a6-ffc7-4db8-80f4-4ccc5b594f52",
   "metadata": {},
   "source": [
    "####  İKİ BOYULTU AYIRMA"
   ]
  },
  {
   "cell_type": "code",
   "execution_count": 92,
   "id": "5ae3c5e3-65b3-45db-a76a-944d21e17d3b",
   "metadata": {
    "tags": []
   },
   "outputs": [
    {
     "data": {
      "text/plain": [
       "array([[ 0,  1,  2,  3],\n",
       "       [ 4,  5,  6,  7],\n",
       "       [ 8,  9, 10, 11],\n",
       "       [12, 13, 14, 15]])"
      ]
     },
     "execution_count": 92,
     "metadata": {},
     "output_type": "execute_result"
    }
   ],
   "source": [
    "m = np.arange(16).reshape(4,4)\n",
    "m"
   ]
  },
  {
   "cell_type": "code",
   "execution_count": 93,
   "id": "abc4a3be-b9ff-4d17-9378-d511b36ce4d3",
   "metadata": {
    "collapsed": true,
    "jupyter": {
     "outputs_hidden": true
    },
    "tags": []
   },
   "outputs": [
    {
     "data": {
      "text/plain": [
       "[array([[0, 1, 2, 3],\n",
       "        [4, 5, 6, 7]]),\n",
       " array([[ 8,  9, 10, 11],\n",
       "        [12, 13, 14, 15]])]"
      ]
     },
     "execution_count": 93,
     "metadata": {},
     "output_type": "execute_result"
    }
   ],
   "source": [
    "np.vsplit(m,[2]) # indeks 2 ye kadar böl."
   ]
  },
  {
   "cell_type": "code",
   "execution_count": 94,
   "id": "42e8b5d8-1d49-48e3-90a8-b2987e68bf0c",
   "metadata": {
    "tags": []
   },
   "outputs": [],
   "source": [
    "ust, alt = np.vsplit(m,[2])"
   ]
  },
  {
   "cell_type": "code",
   "execution_count": 95,
   "id": "f86d93ba-fe4e-497d-bb84-22e4e1892ddb",
   "metadata": {
    "tags": []
   },
   "outputs": [
    {
     "data": {
      "text/plain": [
       "array([[0, 1, 2, 3],\n",
       "       [4, 5, 6, 7]])"
      ]
     },
     "execution_count": 95,
     "metadata": {},
     "output_type": "execute_result"
    }
   ],
   "source": [
    "ust"
   ]
  },
  {
   "cell_type": "code",
   "execution_count": 96,
   "id": "bf1078e0-e081-49e7-b41c-a544fa338afd",
   "metadata": {
    "tags": []
   },
   "outputs": [
    {
     "data": {
      "text/plain": [
       "array([[ 8,  9, 10, 11],\n",
       "       [12, 13, 14, 15]])"
      ]
     },
     "execution_count": 96,
     "metadata": {},
     "output_type": "execute_result"
    }
   ],
   "source": [
    "alt"
   ]
  },
  {
   "cell_type": "code",
   "execution_count": 97,
   "id": "2a7e9e26-315e-4509-8894-a7a8d000a5d4",
   "metadata": {
    "tags": []
   },
   "outputs": [
    {
     "data": {
      "text/plain": [
       "array([[ 0,  1,  2,  3],\n",
       "       [ 4,  5,  6,  7],\n",
       "       [ 8,  9, 10, 11],\n",
       "       [12, 13, 14, 15]])"
      ]
     },
     "execution_count": 97,
     "metadata": {},
     "output_type": "execute_result"
    }
   ],
   "source": [
    "m"
   ]
  },
  {
   "cell_type": "code",
   "execution_count": 103,
   "id": "de45b4f3-78be-498e-9f5e-5fbc587e80aa",
   "metadata": {
    "tags": []
   },
   "outputs": [
    {
     "data": {
      "text/plain": [
       "[array([[ 0,  1],\n",
       "        [ 4,  5],\n",
       "        [ 8,  9],\n",
       "        [12, 13]]),\n",
       " array([[ 2,  3],\n",
       "        [ 6,  7],\n",
       "        [10, 11],\n",
       "        [14, 15]])]"
      ]
     },
     "execution_count": 103,
     "metadata": {},
     "output_type": "execute_result"
    }
   ],
   "source": [
    "np.hsplit(m,[2])"
   ]
  },
  {
   "cell_type": "code",
   "execution_count": 102,
   "id": "7e2734ac-169d-4041-8e40-c95943c310ca",
   "metadata": {
    "tags": []
   },
   "outputs": [],
   "source": [
    "sag,sol =np.hsplit(m,[2])  # dikey böldü."
   ]
  },
  {
   "cell_type": "code",
   "execution_count": 100,
   "id": "b36a0ce3-af0f-4cda-b71f-7f3ce65e0a4c",
   "metadata": {
    "tags": []
   },
   "outputs": [
    {
     "data": {
      "text/plain": [
       "array([[ 0,  1],\n",
       "       [ 4,  5],\n",
       "       [ 8,  9],\n",
       "       [12, 13]])"
      ]
     },
     "execution_count": 100,
     "metadata": {},
     "output_type": "execute_result"
    }
   ],
   "source": [
    "sag"
   ]
  },
  {
   "cell_type": "code",
   "execution_count": 101,
   "id": "8d95b595-a9d3-4534-b989-37d68e4755b7",
   "metadata": {
    "tags": []
   },
   "outputs": [
    {
     "data": {
      "text/plain": [
       "array([[ 2,  3],\n",
       "       [ 6,  7],\n",
       "       [10, 11],\n",
       "       [14, 15]])"
      ]
     },
     "execution_count": 101,
     "metadata": {},
     "output_type": "execute_result"
    }
   ],
   "source": [
    "sol"
   ]
  },
  {
   "cell_type": "markdown",
   "id": "6bf2ddc9-ddef-4633-9283-b7fdfbac3438",
   "metadata": {},
   "source": [
    "## SIRALAMA (SORTING)"
   ]
  },
  {
   "cell_type": "code",
   "execution_count": 104,
   "id": "b096fb33-31fe-43ce-a28e-b115898285c0",
   "metadata": {
    "tags": []
   },
   "outputs": [],
   "source": [
    "import numpy as np"
   ]
  },
  {
   "cell_type": "code",
   "execution_count": 105,
   "id": "ff8f50ec-fd74-4aab-a274-71d6e5cc44dd",
   "metadata": {
    "tags": []
   },
   "outputs": [
    {
     "data": {
      "text/plain": [
       "array([2, 1, 4, 3, 5])"
      ]
     },
     "execution_count": 105,
     "metadata": {},
     "output_type": "execute_result"
    }
   ],
   "source": [
    "v = np.array([2,1,4,3,5])\n",
    "v"
   ]
  },
  {
   "cell_type": "code",
   "execution_count": 110,
   "id": "62457753-6a9a-4094-9df7-84727b0a7775",
   "metadata": {
    "tags": []
   },
   "outputs": [
    {
     "data": {
      "text/plain": [
       "array([1, 2, 3, 4, 5])"
      ]
     },
     "execution_count": 110,
     "metadata": {},
     "output_type": "execute_result"
    }
   ],
   "source": [
    "np.sort(v)     #numpy içinden sort çağrıldığında orjinal yapıyı bomzadı."
   ]
  },
  {
   "cell_type": "code",
   "execution_count": 107,
   "id": "c4b9a658-a6f8-49be-85fb-c6d55f1d3444",
   "metadata": {
    "tags": []
   },
   "outputs": [
    {
     "data": {
      "text/plain": [
       "array([2, 1, 4, 3, 5])"
      ]
     },
     "execution_count": 107,
     "metadata": {},
     "output_type": "execute_result"
    }
   ],
   "source": [
    "v"
   ]
  },
  {
   "cell_type": "code",
   "execution_count": 111,
   "id": "a4751dca-9474-4e65-b3d7-058584eefa3a",
   "metadata": {
    "tags": []
   },
   "outputs": [],
   "source": [
    "v.sort()    #burda çağırdığımızda v nin orjinal yapısını bozdu,değiştirdi."
   ]
  },
  {
   "cell_type": "code",
   "execution_count": 109,
   "id": "42d06656-e8f7-453a-9b9e-2ad13ff1aec6",
   "metadata": {
    "tags": []
   },
   "outputs": [
    {
     "data": {
      "text/plain": [
       "array([1, 2, 3, 4, 5])"
      ]
     },
     "execution_count": 109,
     "metadata": {},
     "output_type": "execute_result"
    }
   ],
   "source": [
    "v"
   ]
  },
  {
   "cell_type": "markdown",
   "id": "b6b589c5-83a2-4f3e-b85c-a8ec9718f5df",
   "metadata": {},
   "source": [
    "### İKİ BOYUTLU ARRAY SIRALAMA"
   ]
  },
  {
   "cell_type": "code",
   "execution_count": 116,
   "id": "90f4805e-bd0e-4a43-bd24-50ac0ddd39ef",
   "metadata": {
    "tags": []
   },
   "outputs": [
    {
     "data": {
      "text/plain": [
       "array([[ 8.06754851, 20.9767865 , 10.92168499],\n",
       "       [24.10466296, 20.51128942, 30.57775055],\n",
       "       [20.91838829, 13.2043244 , 28.1960092 ]])"
      ]
     },
     "execution_count": 116,
     "metadata": {},
     "output_type": "execute_result"
    }
   ],
   "source": [
    "m = np.random.normal(20,5,(3,3)) #ort:20 sp:5 3x3 lük\n",
    "m"
   ]
  },
  {
   "cell_type": "code",
   "execution_count": 118,
   "id": "2a116fa7-0ec9-4a23-9574-48bd9d20b75c",
   "metadata": {
    "tags": []
   },
   "outputs": [
    {
     "data": {
      "text/plain": [
       "array([[ 8.06754851, 10.92168499, 20.9767865 ],\n",
       "       [20.51128942, 24.10466296, 30.57775055],\n",
       "       [13.2043244 , 20.91838829, 28.1960092 ]])"
      ]
     },
     "execution_count": 118,
     "metadata": {},
     "output_type": "execute_result"
    }
   ],
   "source": [
    "np.sort(m,axis =1)   #her bir satırı kendi içinde küçükten büyüğe olacak şekilde sıralamış."
   ]
  },
  {
   "cell_type": "code",
   "execution_count": 120,
   "id": "b365d6d2-5183-45f6-b059-73d51d1d0206",
   "metadata": {
    "tags": []
   },
   "outputs": [
    {
     "data": {
      "text/plain": [
       "array([[ 8.06754851, 13.2043244 , 10.92168499],\n",
       "       [20.91838829, 20.51128942, 28.1960092 ],\n",
       "       [24.10466296, 20.9767865 , 30.57775055]])"
      ]
     },
     "execution_count": 120,
     "metadata": {},
     "output_type": "execute_result"
    }
   ],
   "source": [
    "np.sort(m,axis =0) #her bir sütunu kendi içinde küçükten büyüğe olacak şekilde sıralamış."
   ]
  },
  {
   "cell_type": "code",
   "execution_count": null,
   "id": "baefab79-002e-4b61-909c-6c6db1f0a52b",
   "metadata": {},
   "outputs": [],
   "source": []
  },
  {
   "cell_type": "code",
   "execution_count": null,
   "id": "42ca295a-9e27-4925-8493-6317dccb5db1",
   "metadata": {},
   "outputs": [],
   "source": []
  },
  {
   "cell_type": "markdown",
   "id": "f1b0753e-de4d-4e7d-92f3-5de45a780b6f",
   "metadata": {},
   "source": [
    "### İNDEX İLE ELEMANLARA ERİŞMEK"
   ]
  },
  {
   "cell_type": "code",
   "execution_count": 121,
   "id": "4c5d9bf4-278f-4d7a-aa2b-43448e7b2b61",
   "metadata": {
    "tags": []
   },
   "outputs": [],
   "source": [
    "import numpy as np"
   ]
  },
  {
   "cell_type": "code",
   "execution_count": 122,
   "id": "9fd10ae2-6e86-4c31-8c71-658258f439da",
   "metadata": {
    "tags": []
   },
   "outputs": [
    {
     "data": {
      "text/plain": [
       "array([7, 4, 3, 8, 6, 0, 4, 6, 4, 8])"
      ]
     },
     "execution_count": 122,
     "metadata": {},
     "output_type": "execute_result"
    }
   ],
   "source": [
    "a = np.random.randint(10,size = 10)\n",
    "a"
   ]
  },
  {
   "cell_type": "code",
   "execution_count": 123,
   "id": "d9e652cb-9af6-4cb3-a823-aacbc6fe5c10",
   "metadata": {
    "tags": []
   },
   "outputs": [
    {
     "data": {
      "text/plain": [
       "7"
      ]
     },
     "execution_count": 123,
     "metadata": {},
     "output_type": "execute_result"
    }
   ],
   "source": [
    "a[0]"
   ]
  },
  {
   "cell_type": "code",
   "execution_count": 125,
   "id": "5c8f882f-55f7-4f8e-8ee7-8910e27dbf43",
   "metadata": {
    "tags": []
   },
   "outputs": [
    {
     "data": {
      "text/plain": [
       "8"
      ]
     },
     "execution_count": 125,
     "metadata": {},
     "output_type": "execute_result"
    }
   ],
   "source": [
    "a[-1] #tersten erişim sondaki eleman"
   ]
  },
  {
   "cell_type": "code",
   "execution_count": 128,
   "id": "4dc9212f-3aa2-4d8c-a8b9-7ff5d847acad",
   "metadata": {
    "tags": []
   },
   "outputs": [],
   "source": [
    "a[0]=100  # elemanı indeksle değiştriebilirz."
   ]
  },
  {
   "cell_type": "code",
   "execution_count": 127,
   "id": "d882d01f-c414-4971-b43f-d8bc04936d9a",
   "metadata": {
    "tags": []
   },
   "outputs": [
    {
     "data": {
      "text/plain": [
       "array([100,   4,   3,   8,   6,   0,   4,   6,   4,   8])"
      ]
     },
     "execution_count": 127,
     "metadata": {},
     "output_type": "execute_result"
    }
   ],
   "source": [
    "a"
   ]
  },
  {
   "cell_type": "code",
   "execution_count": 130,
   "id": "0504b7a7-c151-4571-b33f-1d4c698b7cd2",
   "metadata": {
    "tags": []
   },
   "outputs": [
    {
     "data": {
      "text/plain": [
       "array([[7, 3, 4, 5, 8],\n",
       "       [6, 9, 0, 3, 8],\n",
       "       [3, 1, 7, 7, 0]])"
      ]
     },
     "execution_count": 130,
     "metadata": {},
     "output_type": "execute_result"
    }
   ],
   "source": [
    "m = np.random.randint(10,size = (3,5))\n",
    "m"
   ]
  },
  {
   "cell_type": "code",
   "execution_count": 132,
   "id": "81758090-b115-4f6e-aa27-df11540596b7",
   "metadata": {
    "tags": []
   },
   "outputs": [
    {
     "data": {
      "text/plain": [
       "7"
      ]
     },
     "execution_count": 132,
     "metadata": {},
     "output_type": "execute_result"
    }
   ],
   "source": [
    "m[0,0] #indeksler 0 dan başlıyor."
   ]
  },
  {
   "cell_type": "code",
   "execution_count": 135,
   "id": "0545278a-3dab-4bfb-9efd-0ae3a4c9b7c1",
   "metadata": {
    "tags": []
   },
   "outputs": [
    {
     "data": {
      "text/plain": [
       "array([[7, 3, 4, 5, 8],\n",
       "       [6, 2, 0, 3, 8],\n",
       "       [3, 1, 7, 7, 0]])"
      ]
     },
     "execution_count": 135,
     "metadata": {},
     "output_type": "execute_result"
    }
   ],
   "source": [
    "m[1,1]=2.2  # 2 koyar tek tiptir numpy array\n",
    "m"
   ]
  },
  {
   "cell_type": "markdown",
   "id": "59be12c3-04a8-4c9c-960a-ea69c6a7e84b",
   "metadata": {},
   "source": [
    "### SLİCİNG İLE ELEMANLARA ERİŞMEK (ARRAY ALT KÜMESİNE ERİŞMEK)"
   ]
  },
  {
   "cell_type": "code",
   "execution_count": 136,
   "id": "712d8a15-48ca-414a-89a8-604b6a2422a1",
   "metadata": {
    "tags": []
   },
   "outputs": [],
   "source": [
    "import numpy as np"
   ]
  },
  {
   "cell_type": "code",
   "execution_count": 138,
   "id": "6f67ed7b-0666-45a8-ab75-40d47012c914",
   "metadata": {
    "tags": []
   },
   "outputs": [
    {
     "data": {
      "text/plain": [
       "array([20, 21, 22, 23, 24, 25, 26, 27, 28, 29])"
      ]
     },
     "execution_count": 138,
     "metadata": {},
     "output_type": "execute_result"
    }
   ],
   "source": [
    "a = np.arange(20,30)\n",
    "a"
   ]
  },
  {
   "cell_type": "code",
   "execution_count": 140,
   "id": "c943b415-df17-46a2-a183-dca2477cb4e2",
   "metadata": {
    "tags": []
   },
   "outputs": [
    {
     "data": {
      "text/plain": [
       "array([20, 21, 22])"
      ]
     },
     "execution_count": 140,
     "metadata": {},
     "output_type": "execute_result"
    }
   ],
   "source": [
    "a[0:3]    # 0 dan başla 3 tane göster"
   ]
  },
  {
   "cell_type": "code",
   "execution_count": 141,
   "id": "bed75d2e-fdf0-4a50-87d8-13169b065d98",
   "metadata": {
    "tags": []
   },
   "outputs": [
    {
     "data": {
      "text/plain": [
       "array([20, 21, 22])"
      ]
     },
     "execution_count": 141,
     "metadata": {},
     "output_type": "execute_result"
    }
   ],
   "source": [
    "a[:3]    # 0 dan başla 3 tane göster"
   ]
  },
  {
   "cell_type": "code",
   "execution_count": 143,
   "id": "4ad219cd-11f0-455d-bb41-fb499e21150d",
   "metadata": {
    "tags": []
   },
   "outputs": [
    {
     "data": {
      "text/plain": [
       "array([23, 24, 25, 26, 27, 28, 29])"
      ]
     },
     "execution_count": 143,
     "metadata": {},
     "output_type": "execute_result"
    }
   ],
   "source": [
    "a[3:]   # 3 den sona doğru 3 dahil tüm değerleri seç"
   ]
  },
  {
   "cell_type": "code",
   "execution_count": 145,
   "id": "05629d34-eef5-4462-a4ef-6d76145b0cd7",
   "metadata": {
    "tags": []
   },
   "outputs": [
    {
     "data": {
      "text/plain": [
       "array([21, 23, 25, 27, 29])"
      ]
     },
     "execution_count": 145,
     "metadata": {},
     "output_type": "execute_result"
    }
   ],
   "source": [
    "a[1::2]  #1 den başla 2 atlayarak göster"
   ]
  },
  {
   "cell_type": "markdown",
   "id": "d6ba775a-f507-4072-8d82-8e37ac07b7fa",
   "metadata": {},
   "source": [
    "### iki boyutlu slice işlemleri"
   ]
  },
  {
   "cell_type": "code",
   "execution_count": 146,
   "id": "e26fa2ca-bec0-4829-9468-b3eebe46f351",
   "metadata": {
    "tags": []
   },
   "outputs": [
    {
     "data": {
      "text/plain": [
       "array([[8, 7, 2, 4, 5],\n",
       "       [6, 3, 1, 4, 0],\n",
       "       [0, 5, 6, 6, 2],\n",
       "       [5, 5, 0, 8, 5],\n",
       "       [8, 1, 6, 5, 6]])"
      ]
     },
     "execution_count": 146,
     "metadata": {},
     "output_type": "execute_result"
    }
   ],
   "source": [
    "m = np.random.randint(10,size = (5,5))\n",
    "m "
   ]
  },
  {
   "cell_type": "code",
   "execution_count": 148,
   "id": "5a4ee39f-91c2-49d3-b468-dfc4d4e7a63d",
   "metadata": {
    "tags": []
   },
   "outputs": [
    {
     "data": {
      "text/plain": [
       "array([8, 6, 0, 5, 8])"
      ]
     },
     "execution_count": 148,
     "metadata": {},
     "output_type": "execute_result"
    }
   ],
   "source": [
    "m[:,0] # 0 sütunu getir,tüm satırlarıyla"
   ]
  },
  {
   "cell_type": "code",
   "execution_count": 149,
   "id": "19f40f2c-d862-427b-80a6-e0584c8ae413",
   "metadata": {
    "tags": []
   },
   "outputs": [
    {
     "data": {
      "text/plain": [
       "array([7, 3, 5, 5, 1])"
      ]
     },
     "execution_count": 149,
     "metadata": {},
     "output_type": "execute_result"
    }
   ],
   "source": [
    "m[:,1]   # 2.sütuna eriştik"
   ]
  },
  {
   "cell_type": "code",
   "execution_count": 155,
   "id": "f65bde64-85c9-4182-8bc1-cce2825b7a38",
   "metadata": {},
   "outputs": [
    {
     "data": {
      "text/plain": [
       "array([[8, 7, 2, 4, 5],\n",
       "       [6, 3, 1, 4, 0],\n",
       "       [0, 5, 6, 6, 2],\n",
       "       [5, 5, 0, 8, 5],\n",
       "       [8, 1, 6, 5, 6]])"
      ]
     },
     "execution_count": 155,
     "metadata": {},
     "output_type": "execute_result"
    }
   ],
   "source": [
    "m"
   ]
  },
  {
   "cell_type": "code",
   "execution_count": 153,
   "id": "f7d76596-0d55-4870-85e2-04e9db9b14bc",
   "metadata": {
    "tags": []
   },
   "outputs": [
    {
     "data": {
      "text/plain": [
       "array([8, 7, 2, 4, 5])"
      ]
     },
     "execution_count": 153,
     "metadata": {},
     "output_type": "execute_result"
    }
   ],
   "source": [
    "m[0,:]      #1 satırın tüm sütunları m[satır,sütun]"
   ]
  },
  {
   "cell_type": "code",
   "execution_count": 156,
   "id": "aa2c084c-8c55-40f9-af12-d7eaca80c875",
   "metadata": {
    "tags": []
   },
   "outputs": [
    {
     "data": {
      "text/plain": [
       "array([[8, 7, 2],\n",
       "       [6, 3, 1]])"
      ]
     },
     "execution_count": 156,
     "metadata": {},
     "output_type": "execute_result"
    }
   ],
   "source": [
    "m[0:2, 0:3] # 0 dan 2 ye kadar satırlar, 0 dan 3 e kadar sütunlar gelir."
   ]
  },
  {
   "cell_type": "code",
   "execution_count": 158,
   "id": "919dd746-6fd5-4248-9399-e0a39c19abe0",
   "metadata": {
    "tags": []
   },
   "outputs": [
    {
     "data": {
      "text/plain": [
       "array([[8, 7],\n",
       "       [6, 3],\n",
       "       [0, 5],\n",
       "       [5, 5],\n",
       "       [8, 1]])"
      ]
     },
     "execution_count": 158,
     "metadata": {},
     "output_type": "execute_result"
    }
   ],
   "source": [
    "m[::,:2]    # = m[:,:2] "
   ]
  },
  {
   "cell_type": "code",
   "execution_count": 159,
   "id": "d8798a18-3d7a-43b7-acfb-d179975bebe8",
   "metadata": {
    "tags": []
   },
   "outputs": [
    {
     "data": {
      "text/plain": [
       "array([[8, 7, 2, 4, 5],\n",
       "       [6, 3, 1, 4, 0],\n",
       "       [0, 5, 6, 6, 2],\n",
       "       [5, 5, 0, 8, 5],\n",
       "       [8, 1, 6, 5, 6]])"
      ]
     },
     "execution_count": 159,
     "metadata": {},
     "output_type": "execute_result"
    }
   ],
   "source": [
    "m"
   ]
  },
  {
   "cell_type": "code",
   "execution_count": 160,
   "id": "7d32d9c2-43d9-46a1-8806-f7160e590930",
   "metadata": {
    "tags": []
   },
   "outputs": [
    {
     "data": {
      "text/plain": [
       "array([[6, 3],\n",
       "       [0, 5]])"
      ]
     },
     "execution_count": 160,
     "metadata": {},
     "output_type": "execute_result"
    }
   ],
   "source": [
    "m[1:3, 0:2]"
   ]
  },
  {
   "cell_type": "markdown",
   "id": "2951fe77-a6db-4704-8b94-f402a5dc1928",
   "metadata": {},
   "source": [
    "### ALT KÜME ÜZERİNDE İŞLEM YAPMAK "
   ]
  },
  {
   "cell_type": "code",
   "execution_count": 161,
   "id": "6a5fe183-c010-44ac-b6e2-ce972e388823",
   "metadata": {
    "tags": []
   },
   "outputs": [],
   "source": [
    "import numpy as np "
   ]
  },
  {
   "cell_type": "code",
   "execution_count": 162,
   "id": "5176d3fb-cb25-4bb7-af6d-1c20a4abf4cf",
   "metadata": {
    "tags": []
   },
   "outputs": [
    {
     "data": {
      "text/plain": [
       "array([[3, 2, 8, 4, 0],\n",
       "       [4, 1, 6, 0, 3],\n",
       "       [9, 0, 4, 3, 2],\n",
       "       [4, 6, 1, 1, 2],\n",
       "       [6, 3, 3, 1, 9]])"
      ]
     },
     "execution_count": 162,
     "metadata": {},
     "output_type": "execute_result"
    }
   ],
   "source": [
    "a = np.random.randint(10,size =(5,5))\n",
    "a"
   ]
  },
  {
   "cell_type": "code",
   "execution_count": 163,
   "id": "28ec9445-4335-442d-be28-9a2575a48539",
   "metadata": {
    "tags": []
   },
   "outputs": [
    {
     "data": {
      "text/plain": [
       "array([[3, 2],\n",
       "       [4, 1],\n",
       "       [9, 0]])"
      ]
     },
     "execution_count": 163,
     "metadata": {},
     "output_type": "execute_result"
    }
   ],
   "source": [
    "alt_a = a[0:3,0:2]\n",
    "alt_a"
   ]
  },
  {
   "cell_type": "code",
   "execution_count": 164,
   "id": "1496968a-ca61-4d7f-b172-08d9f2461a31",
   "metadata": {
    "tags": []
   },
   "outputs": [],
   "source": [
    "alt_a[0,0] = 9999\n",
    "alt_a[1,1] = 888"
   ]
  },
  {
   "cell_type": "code",
   "execution_count": 165,
   "id": "a7e2a96a-abf3-4ff7-8194-75b315891539",
   "metadata": {
    "tags": []
   },
   "outputs": [
    {
     "data": {
      "text/plain": [
       "array([[9999,    2],\n",
       "       [   4,  888],\n",
       "       [   9,    0]])"
      ]
     },
     "execution_count": 165,
     "metadata": {},
     "output_type": "execute_result"
    }
   ],
   "source": [
    "alt_a"
   ]
  },
  {
   "cell_type": "code",
   "execution_count": 166,
   "id": "efa2b2de-138a-435c-a575-700522d497ba",
   "metadata": {
    "tags": []
   },
   "outputs": [
    {
     "data": {
      "text/plain": [
       "array([[9999,    2,    8,    4,    0],\n",
       "       [   4,  888,    6,    0,    3],\n",
       "       [   9,    0,    4,    3,    2],\n",
       "       [   4,    6,    1,    1,    2],\n",
       "       [   6,    3,    3,    1,    9]])"
      ]
     },
     "execution_count": 166,
     "metadata": {},
     "output_type": "execute_result"
    }
   ],
   "source": [
    "a"
   ]
  },
  {
   "cell_type": "code",
   "execution_count": 167,
   "id": "b482cd83-277c-4eb4-ab6b-55fa41476589",
   "metadata": {
    "tags": []
   },
   "outputs": [
    {
     "data": {
      "text/plain": [
       "array([[4, 1, 5, 2, 3],\n",
       "       [6, 9, 8, 9, 5],\n",
       "       [6, 3, 6, 6, 3],\n",
       "       [2, 0, 3, 1, 5],\n",
       "       [3, 7, 6, 8, 2]])"
      ]
     },
     "execution_count": 167,
     "metadata": {},
     "output_type": "execute_result"
    }
   ],
   "source": [
    "m = np.random.randint(10,size =(5,5))\n",
    "m"
   ]
  },
  {
   "cell_type": "code",
   "execution_count": 172,
   "id": "0bf1e1fb-1d0d-4df7-9164-17418a6ff4c1",
   "metadata": {
    "tags": []
   },
   "outputs": [
    {
     "data": {
      "text/plain": [
       "array([[4, 1],\n",
       "       [6, 9],\n",
       "       [6, 3]])"
      ]
     },
     "execution_count": 172,
     "metadata": {},
     "output_type": "execute_result"
    }
   ],
   "source": [
    "alt_b = m[0:3,0:2].copy()   #copy ekleyerek sadecealtkümeye ekleriz ana arraye m de değişiklik olmaz.\n",
    "alt_b"
   ]
  },
  {
   "cell_type": "code",
   "execution_count": 173,
   "id": "cbb3fcba-bda2-4e33-bb4e-c0b8d570fc38",
   "metadata": {
    "tags": []
   },
   "outputs": [
    {
     "data": {
      "text/plain": [
       "array([[9999,    1],\n",
       "       [   6,    9],\n",
       "       [   6,    3]])"
      ]
     },
     "execution_count": 173,
     "metadata": {},
     "output_type": "execute_result"
    }
   ],
   "source": [
    "alt_b[0,0] = 9999 \n",
    "alt_b"
   ]
  },
  {
   "cell_type": "code",
   "execution_count": 174,
   "id": "c8becd1c-563f-4caa-9fcb-3c28a4c2adb0",
   "metadata": {
    "tags": []
   },
   "outputs": [
    {
     "data": {
      "text/plain": [
       "array([[4, 1, 5, 2, 3],\n",
       "       [6, 9, 8, 9, 5],\n",
       "       [6, 3, 6, 6, 3],\n",
       "       [2, 0, 3, 1, 5],\n",
       "       [3, 7, 6, 8, 2]])"
      ]
     },
     "execution_count": 174,
     "metadata": {},
     "output_type": "execute_result"
    }
   ],
   "source": [
    "m"
   ]
  },
  {
   "cell_type": "markdown",
   "id": "bfb048c6-9ad0-4f00-8e97-ada208c9d4c1",
   "metadata": {},
   "source": [
    "### FANCY INDEX İLE ELEMANLARA ERİŞMEK "
   ]
  },
  {
   "cell_type": "code",
   "execution_count": 175,
   "id": "cf236fa8-5736-4f8c-8c81-f72bacc5ddb8",
   "metadata": {
    "tags": []
   },
   "outputs": [],
   "source": [
    "import numpy as np"
   ]
  },
  {
   "cell_type": "code",
   "execution_count": 176,
   "id": "1f0a5905-87ed-4d7f-a4af-b8903211768a",
   "metadata": {
    "tags": []
   },
   "outputs": [
    {
     "data": {
      "text/plain": [
       "array([ 0,  3,  6,  9, 12, 15, 18, 21, 24, 27])"
      ]
     },
     "execution_count": 176,
     "metadata": {},
     "output_type": "execute_result"
    }
   ],
   "source": [
    "v = np.arange(0,30,3)\n",
    "v"
   ]
  },
  {
   "cell_type": "code",
   "execution_count": 177,
   "id": "4d0db008-2f06-41b2-8cff-f0e62801a109",
   "metadata": {
    "tags": []
   },
   "outputs": [
    {
     "data": {
      "text/plain": [
       "3"
      ]
     },
     "execution_count": 177,
     "metadata": {},
     "output_type": "execute_result"
    }
   ],
   "source": [
    "v[1]"
   ]
  },
  {
   "cell_type": "code",
   "execution_count": 181,
   "id": "a45f552d-128e-434c-bf33-624a5826e641",
   "metadata": {
    "tags": []
   },
   "outputs": [
    {
     "data": {
      "text/plain": [
       "9"
      ]
     },
     "execution_count": 181,
     "metadata": {},
     "output_type": "execute_result"
    }
   ],
   "source": [
    "v[3]"
   ]
  },
  {
   "cell_type": "code",
   "execution_count": 182,
   "id": "2293ca7c-62b7-419b-92dd-1221b1ba25bc",
   "metadata": {
    "tags": []
   },
   "outputs": [
    {
     "data": {
      "text/plain": [
       "15"
      ]
     },
     "execution_count": 182,
     "metadata": {},
     "output_type": "execute_result"
    }
   ],
   "source": [
    "v[5]"
   ]
  },
  {
   "cell_type": "code",
   "execution_count": 184,
   "id": "4045b3af-39c4-4c27-ad3f-29e301e8d9f7",
   "metadata": {
    "tags": []
   },
   "outputs": [
    {
     "data": {
      "text/plain": [
       "[3, 9, 15]"
      ]
     },
     "execution_count": 184,
     "metadata": {},
     "output_type": "execute_result"
    }
   ],
   "source": [
    "[v[1],v[3],v[5]]      # bi kaç tane erişmek için bu şekilde liste şeklinde de erişilebilir."
   ]
  },
  {
   "cell_type": "code",
   "execution_count": 187,
   "id": "9980514b-2894-462e-8332-1f963cb37879",
   "metadata": {
    "tags": []
   },
   "outputs": [
    {
     "data": {
      "text/plain": [
       "array([ 0,  3,  6,  9, 12, 15, 18, 21, 24, 27])"
      ]
     },
     "execution_count": 187,
     "metadata": {},
     "output_type": "execute_result"
    }
   ],
   "source": [
    "al_getir = [1,3,5]\n",
    "v"
   ]
  },
  {
   "cell_type": "code",
   "execution_count": 190,
   "id": "73b87d20-aef2-4bf4-976b-db9c9cbafb66",
   "metadata": {
    "tags": []
   },
   "outputs": [
    {
     "data": {
      "text/plain": [
       "array([ 3,  9, 15])"
      ]
     },
     "execution_count": 190,
     "metadata": {},
     "output_type": "execute_result"
    }
   ],
   "source": [
    "v[al_getir] # v nin 1,3,5 indekslerini getirir.bu işleme fancy indeks deriz."
   ]
  },
  {
   "cell_type": "markdown",
   "id": "462b5689-3847-4a93-9e17-ac83cd888ea5",
   "metadata": {},
   "source": [
    "### iki boyutta fancy"
   ]
  },
  {
   "cell_type": "code",
   "execution_count": 191,
   "id": "64e53769-84a2-4cca-9adc-814ad7051cc5",
   "metadata": {
    "tags": []
   },
   "outputs": [
    {
     "data": {
      "text/plain": [
       "array([[0, 1, 2],\n",
       "       [3, 4, 5],\n",
       "       [6, 7, 8]])"
      ]
     },
     "execution_count": 191,
     "metadata": {},
     "output_type": "execute_result"
    }
   ],
   "source": [
    "m = np.arange(9).reshape((3,3))\n",
    "m"
   ]
  },
  {
   "cell_type": "code",
   "execution_count": 194,
   "id": "6db5d06b-c428-4b4b-83b9-268f05c0999e",
   "metadata": {
    "tags": []
   },
   "outputs": [],
   "source": [
    "satir = np.array([0,1])  #1\n",
    "sutun = np.array([1,2])  #5"
   ]
  },
  {
   "cell_type": "code",
   "execution_count": 195,
   "id": "ffa8c84d-c6ae-42c0-bb68-ded661f364d7",
   "metadata": {
    "tags": []
   },
   "outputs": [
    {
     "data": {
      "text/plain": [
       "array([1, 5])"
      ]
     },
     "execution_count": 195,
     "metadata": {},
     "output_type": "execute_result"
    }
   ],
   "source": [
    "m[satir,sutun]"
   ]
  },
  {
   "cell_type": "markdown",
   "id": "f896d36c-c356-4403-945a-21291ca9787b",
   "metadata": {},
   "source": [
    "### basit index ile fancy index"
   ]
  },
  {
   "cell_type": "code",
   "execution_count": 196,
   "id": "d9165887-1849-47f4-b90f-4626c43c7a00",
   "metadata": {
    "tags": []
   },
   "outputs": [
    {
     "data": {
      "text/plain": [
       "array([[0, 1, 2],\n",
       "       [3, 4, 5],\n",
       "       [6, 7, 8]])"
      ]
     },
     "execution_count": 196,
     "metadata": {},
     "output_type": "execute_result"
    }
   ],
   "source": [
    "m"
   ]
  },
  {
   "cell_type": "code",
   "execution_count": 198,
   "id": "4c157c87-6287-45a0-8386-d13a629df3f5",
   "metadata": {
    "tags": []
   },
   "outputs": [
    {
     "data": {
      "text/plain": [
       "array([1, 2])"
      ]
     },
     "execution_count": 198,
     "metadata": {},
     "output_type": "execute_result"
    }
   ],
   "source": [
    "m[0,[1,2]]       #fancy ile basit indexlemeyi bir arada kullandım."
   ]
  },
  {
   "cell_type": "markdown",
   "id": "28491af2-b29b-4744-b167-b3fc05123a64",
   "metadata": {},
   "source": [
    "# slice ile fancy"
   ]
  },
  {
   "cell_type": "code",
   "execution_count": 199,
   "id": "2897081e-4083-4191-961b-9c4739dd9aae",
   "metadata": {
    "tags": []
   },
   "outputs": [
    {
     "data": {
      "text/plain": [
       "array([[1, 2],\n",
       "       [4, 5],\n",
       "       [7, 8]])"
      ]
     },
     "execution_count": 199,
     "metadata": {},
     "output_type": "execute_result"
    }
   ],
   "source": [
    "m[0:,[1,2]] # 0 dan sona kadar gitti"
   ]
  },
  {
   "cell_type": "markdown",
   "id": "6aed7661-9108-46dc-9643-b13527818033",
   "metadata": {},
   "source": [
    "### KOŞULLU ELEMAN İŞLEMLERİ"
   ]
  },
  {
   "cell_type": "code",
   "execution_count": 200,
   "id": "29d1c377-8614-403c-9d63-a5076e3aa7b3",
   "metadata": {
    "tags": []
   },
   "outputs": [],
   "source": [
    "import numpy as np"
   ]
  },
  {
   "cell_type": "code",
   "execution_count": 201,
   "id": "0c9d64de-d04f-45b1-9d80-bda9e6eba9d6",
   "metadata": {
    "tags": []
   },
   "outputs": [],
   "source": [
    "v= np.array([1,2,3,4,5])"
   ]
  },
  {
   "cell_type": "code",
   "execution_count": 203,
   "id": "29336d49-fb98-4d88-abcd-58e76cb2e49c",
   "metadata": {
    "tags": []
   },
   "outputs": [
    {
     "data": {
      "text/plain": [
       "array([ True,  True, False, False, False])"
      ]
     },
     "execution_count": 203,
     "metadata": {},
     "output_type": "execute_result"
    }
   ],
   "source": [
    "v < 3    #küçük olanları true false ile gördük"
   ]
  },
  {
   "cell_type": "code",
   "execution_count": 205,
   "id": "6cc9312b-8f7f-467e-877e-771f506f107f",
   "metadata": {
    "tags": []
   },
   "outputs": [
    {
     "data": {
      "text/plain": [
       "array([1, 2])"
      ]
     },
     "execution_count": 205,
     "metadata": {},
     "output_type": "execute_result"
    }
   ],
   "source": [
    "v[v<3]    # true değerleri geldi"
   ]
  },
  {
   "cell_type": "code",
   "execution_count": 206,
   "id": "8a2ecbc3-ba6f-470c-a2d1-6b0b48670e75",
   "metadata": {
    "tags": []
   },
   "outputs": [
    {
     "data": {
      "text/plain": [
       "array([4, 5])"
      ]
     },
     "execution_count": 206,
     "metadata": {},
     "output_type": "execute_result"
    }
   ],
   "source": [
    "v[v>3]"
   ]
  },
  {
   "cell_type": "code",
   "execution_count": 207,
   "id": "16b0b1f8-eae7-4b54-9bd7-51f5e1993569",
   "metadata": {
    "tags": []
   },
   "outputs": [
    {
     "data": {
      "text/plain": [
       "array([1, 2, 3])"
      ]
     },
     "execution_count": 207,
     "metadata": {},
     "output_type": "execute_result"
    }
   ],
   "source": [
    "v[v<=3]"
   ]
  },
  {
   "cell_type": "code",
   "execution_count": 208,
   "id": "9e2d3416-9a25-4634-875d-c5628758f4d0",
   "metadata": {
    "tags": []
   },
   "outputs": [
    {
     "data": {
      "text/plain": [
       "array([3, 4, 5])"
      ]
     },
     "execution_count": 208,
     "metadata": {},
     "output_type": "execute_result"
    }
   ],
   "source": [
    "v[v>=3]"
   ]
  },
  {
   "cell_type": "code",
   "execution_count": 209,
   "id": "ba23de69-ff09-456a-8778-bc708b556001",
   "metadata": {
    "tags": []
   },
   "outputs": [
    {
     "data": {
      "text/plain": [
       "array([3])"
      ]
     },
     "execution_count": 209,
     "metadata": {},
     "output_type": "execute_result"
    }
   ],
   "source": [
    "v[v==3]"
   ]
  },
  {
   "cell_type": "code",
   "execution_count": 210,
   "id": "1a49e572-63dc-4cf4-ae46-6364ced025be",
   "metadata": {
    "tags": []
   },
   "outputs": [
    {
     "data": {
      "text/plain": [
       "array([1, 2, 4, 5])"
      ]
     },
     "execution_count": 210,
     "metadata": {},
     "output_type": "execute_result"
    }
   ],
   "source": [
    "v[v!=3]"
   ]
  },
  {
   "cell_type": "code",
   "execution_count": 211,
   "id": "c9cf4ee5-1f11-4fad-884d-b72ad5fdd7b0",
   "metadata": {
    "tags": []
   },
   "outputs": [
    {
     "data": {
      "text/plain": [
       "array([ 2,  4,  6,  8, 10])"
      ]
     },
     "execution_count": 211,
     "metadata": {},
     "output_type": "execute_result"
    }
   ],
   "source": [
    "v*2"
   ]
  },
  {
   "cell_type": "code",
   "execution_count": 212,
   "id": "95ca544c-abe8-437e-b115-3fb246aee39d",
   "metadata": {
    "tags": []
   },
   "outputs": [
    {
     "data": {
      "text/plain": [
       "array([0.2, 0.4, 0.6, 0.8, 1. ])"
      ]
     },
     "execution_count": 212,
     "metadata": {},
     "output_type": "execute_result"
    }
   ],
   "source": [
    "v/5"
   ]
  },
  {
   "cell_type": "code",
   "execution_count": 213,
   "id": "95ad250f-a9f7-4f56-b94c-700406ea1fec",
   "metadata": {
    "tags": []
   },
   "outputs": [
    {
     "data": {
      "text/plain": [
       "array([0.5, 1. , 1.5, 2. , 2.5])"
      ]
     },
     "execution_count": 213,
     "metadata": {},
     "output_type": "execute_result"
    }
   ],
   "source": [
    "v*5/10"
   ]
  },
  {
   "cell_type": "code",
   "execution_count": 214,
   "id": "b724eaaf-3c98-4b60-80d3-73c118f876f2",
   "metadata": {
    "tags": []
   },
   "outputs": [
    {
     "data": {
      "text/plain": [
       "array([ 1,  4,  9, 16, 25])"
      ]
     },
     "execution_count": 214,
     "metadata": {},
     "output_type": "execute_result"
    }
   ],
   "source": [
    "v**2"
   ]
  },
  {
   "cell_type": "markdown",
   "id": "c144b499-5422-49a5-aa37-e51ddbaba5fb",
   "metadata": {},
   "source": [
    "### matematiksel işlemler"
   ]
  },
  {
   "cell_type": "code",
   "execution_count": 215,
   "id": "a20cff5a-d1ab-4cfe-b5b3-75775343cace",
   "metadata": {
    "tags": []
   },
   "outputs": [],
   "source": [
    "import numpy as np"
   ]
  },
  {
   "cell_type": "code",
   "execution_count": 216,
   "id": "448d9f40-390c-4b68-98b4-aa67fa714f64",
   "metadata": {
    "tags": []
   },
   "outputs": [
    {
     "data": {
      "text/plain": [
       "array([1, 2, 3, 4, 5])"
      ]
     },
     "execution_count": 216,
     "metadata": {},
     "output_type": "execute_result"
    }
   ],
   "source": [
    "v = np.array([1,2,3,4,5])\n",
    "v"
   ]
  },
  {
   "cell_type": "markdown",
   "id": "e47c1222-fdd9-45da-949b-3d523c60c35b",
   "metadata": {},
   "source": [
    "### matematiksel işlemleri yaparken ufunc adı verilen mekanizma çalışıyor."
   ]
  },
  {
   "cell_type": "code",
   "execution_count": 219,
   "id": "6adbeb09-a1d2-4137-b297-b38095867f04",
   "metadata": {
    "tags": []
   },
   "outputs": [
    {
     "data": {
      "text/plain": [
       "array([0, 1, 2, 3, 4])"
      ]
     },
     "execution_count": 219,
     "metadata": {},
     "output_type": "execute_result"
    }
   ],
   "source": [
    "np.subtract(v,1)"
   ]
  },
  {
   "cell_type": "code",
   "execution_count": 220,
   "id": "45a53e27-8f18-4222-9501-ee74c1674d61",
   "metadata": {
    "tags": []
   },
   "outputs": [
    {
     "data": {
      "text/plain": [
       "array([2, 3, 4, 5, 6])"
      ]
     },
     "execution_count": 220,
     "metadata": {},
     "output_type": "execute_result"
    }
   ],
   "source": [
    "np.add(v,1)"
   ]
  },
  {
   "cell_type": "code",
   "execution_count": 221,
   "id": "5529d69a-c8ce-46f1-8293-978778a8652a",
   "metadata": {
    "tags": []
   },
   "outputs": [
    {
     "data": {
      "text/plain": [
       "array([ 4,  8, 12, 16, 20])"
      ]
     },
     "execution_count": 221,
     "metadata": {},
     "output_type": "execute_result"
    }
   ],
   "source": [
    "np.multiply(v,4)"
   ]
  },
  {
   "cell_type": "code",
   "execution_count": 222,
   "id": "fe97f133-05eb-45e1-a5cb-42a6a7a2e199",
   "metadata": {
    "tags": []
   },
   "outputs": [
    {
     "data": {
      "text/plain": [
       "array([0.33333333, 0.66666667, 1.        , 1.33333333, 1.66666667])"
      ]
     },
     "execution_count": 222,
     "metadata": {},
     "output_type": "execute_result"
    }
   ],
   "source": [
    "np.divide(v,3)"
   ]
  },
  {
   "cell_type": "code",
   "execution_count": 224,
   "id": "1e67f12f-77df-4fb7-b859-54198d53c827",
   "metadata": {
    "tags": []
   },
   "outputs": [
    {
     "data": {
      "text/plain": [
       "array([  1,   8,  27,  64, 125], dtype=int32)"
      ]
     },
     "execution_count": 224,
     "metadata": {},
     "output_type": "execute_result"
    }
   ],
   "source": [
    "np.power(v,3)  #küp alır üçünkü kuvveti"
   ]
  },
  {
   "cell_type": "code",
   "execution_count": 226,
   "id": "eaf4808c-8d43-4148-9145-6128c6ed682f",
   "metadata": {
    "tags": []
   },
   "outputs": [
    {
     "data": {
      "text/plain": [
       "array([1, 0, 1, 0, 1], dtype=int32)"
      ]
     },
     "execution_count": 226,
     "metadata": {},
     "output_type": "execute_result"
    }
   ],
   "source": [
    "np.mod(v,2)  # 2 ye bölümünden kalanları getirir."
   ]
  },
  {
   "cell_type": "code",
   "execution_count": 228,
   "id": "7646fdbc-57d0-4a34-b459-c7434a180021",
   "metadata": {
    "tags": []
   },
   "outputs": [
    {
     "data": {
      "text/plain": [
       "array([3])"
      ]
     },
     "execution_count": 228,
     "metadata": {},
     "output_type": "execute_result"
    }
   ],
   "source": [
    "np.absolute(np.array([-3]))   #mutlak değer almak için kullanılıyor."
   ]
  },
  {
   "cell_type": "code",
   "execution_count": 230,
   "id": "889a2e4a-de74-47bb-baec-616e44bec34d",
   "metadata": {
    "tags": []
   },
   "outputs": [
    {
     "data": {
      "text/plain": [
       "-0.5984600690578581"
      ]
     },
     "execution_count": 230,
     "metadata": {},
     "output_type": "execute_result"
    }
   ],
   "source": [
    "np.sin(360)\n",
    "np.cos(180)"
   ]
  },
  {
   "cell_type": "code",
   "execution_count": 231,
   "id": "ce35e8a6-69cf-48c7-bb27-c2f607e53aac",
   "metadata": {
    "tags": []
   },
   "outputs": [],
   "source": [
    "v = np.array([1,2,3])"
   ]
  },
  {
   "cell_type": "code",
   "execution_count": 232,
   "id": "ef4c67c8-8ec1-464a-839e-7468e0aaec53",
   "metadata": {
    "tags": []
   },
   "outputs": [
    {
     "data": {
      "text/plain": [
       "array([0.        , 0.69314718, 1.09861229])"
      ]
     },
     "execution_count": 232,
     "metadata": {},
     "output_type": "execute_result"
    }
   ],
   "source": [
    "np.log(v)"
   ]
  },
  {
   "cell_type": "code",
   "execution_count": 233,
   "id": "95e93c91-213a-4047-b0b6-00b2ac26e4ad",
   "metadata": {
    "tags": []
   },
   "outputs": [
    {
     "data": {
      "text/plain": [
       "array([0.       , 1.       , 1.5849625])"
      ]
     },
     "execution_count": 233,
     "metadata": {},
     "output_type": "execute_result"
    }
   ],
   "source": [
    "np.log2(v)"
   ]
  },
  {
   "cell_type": "code",
   "execution_count": 234,
   "id": "fe10653d-3bbf-4214-b2e7-b06f2b872d17",
   "metadata": {
    "tags": []
   },
   "outputs": [
    {
     "data": {
      "text/plain": [
       "array([0.        , 0.30103   , 0.47712125])"
      ]
     },
     "execution_count": 234,
     "metadata": {},
     "output_type": "execute_result"
    }
   ],
   "source": [
    "np.log10(v)"
   ]
  },
  {
   "cell_type": "markdown",
   "id": "d95e2536-0132-4366-9b6c-60867102b590",
   "metadata": {},
   "source": [
    "### ?np şeklinde dökümantasyona ulaşılabilir."
   ]
  },
  {
   "cell_type": "markdown",
   "id": "1eeef636-9103-4fd4-81eb-a7afbd50f2f1",
   "metadata": {},
   "source": [
    "### cheatsheet kütüphanein içeriği kopya kağıdı şeklinde"
   ]
  },
  {
   "cell_type": "markdown",
   "id": "cf3f2d56-76ec-498a-9043-f44584d07454",
   "metadata": {},
   "source": [
    "# istatistiksel hesaplamalar "
   ]
  },
  {
   "cell_type": "code",
   "execution_count": 242,
   "id": "c389e058-b7ca-4f43-a785-549af81c0de9",
   "metadata": {
    "tags": []
   },
   "outputs": [
    {
     "data": {
      "text/plain": [
       "array([1, 2, 3])"
      ]
     },
     "execution_count": 242,
     "metadata": {},
     "output_type": "execute_result"
    }
   ],
   "source": [
    "v"
   ]
  },
  {
   "cell_type": "code",
   "execution_count": 239,
   "id": "2547956c-85e0-4730-9bfd-7281676fc610",
   "metadata": {
    "tags": []
   },
   "outputs": [
    {
     "data": {
      "text/plain": [
       "2.0"
      ]
     },
     "execution_count": 239,
     "metadata": {},
     "output_type": "execute_result"
    }
   ],
   "source": [
    "np.mean(v)  # ortalaa verir."
   ]
  },
  {
   "cell_type": "code",
   "execution_count": 240,
   "id": "139c3b67-0d52-458e-949b-234d6d955db5",
   "metadata": {
    "tags": []
   },
   "outputs": [
    {
     "data": {
      "text/plain": [
       "6"
      ]
     },
     "execution_count": 240,
     "metadata": {},
     "output_type": "execute_result"
    }
   ],
   "source": [
    "v.sum()"
   ]
  },
  {
   "cell_type": "code",
   "execution_count": 241,
   "id": "56b3d190-e555-48be-8e64-a18b6474955b",
   "metadata": {
    "tags": []
   },
   "outputs": [
    {
     "data": {
      "text/plain": [
       "1"
      ]
     },
     "execution_count": 241,
     "metadata": {},
     "output_type": "execute_result"
    }
   ],
   "source": [
    "v.min()"
   ]
  },
  {
   "cell_type": "code",
   "execution_count": 243,
   "id": "36a1fb50-63d9-46af-b22d-545fe89131d5",
   "metadata": {
    "tags": []
   },
   "outputs": [
    {
     "data": {
      "text/plain": [
       "3"
      ]
     },
     "execution_count": 243,
     "metadata": {},
     "output_type": "execute_result"
    }
   ],
   "source": [
    "v.max()"
   ]
  },
  {
   "cell_type": "markdown",
   "id": "bd9670b2-127c-484d-bdb9-4389c5e64ded",
   "metadata": {},
   "source": [
    "# NUMPY ile iki bilinmeyenli denklem çözümü"
   ]
  },
  {
   "cell_type": "code",
   "execution_count": 245,
   "id": "ef835092-0d4e-4e37-bcb0-2e02ef0fbf0f",
   "metadata": {
    "tags": []
   },
   "outputs": [],
   "source": [
    "import numpy as np"
   ]
  },
  {
   "cell_type": "code",
   "execution_count": 249,
   "id": "9b906516-21be-4262-be86-e26b27e371ff",
   "metadata": {
    "tags": []
   },
   "outputs": [],
   "source": [
    "#   5*x0+x1 = 12\n",
    "#   x0+3*x1 = 10"
   ]
  },
  {
   "cell_type": "code",
   "execution_count": 250,
   "id": "26645104-bda8-44b0-8628-cc492b5e3b55",
   "metadata": {
    "tags": []
   },
   "outputs": [],
   "source": [
    "a = np.array([[5,1],[1,3]])\n",
    "b = np.array([12,10])\n"
   ]
  },
  {
   "cell_type": "code",
   "execution_count": 251,
   "id": "46199e81-f1a6-4ecc-b81b-a19e69fc4d3c",
   "metadata": {
    "tags": []
   },
   "outputs": [
    {
     "data": {
      "text/plain": [
       "array([[5, 1],\n",
       "       [1, 3]])"
      ]
     },
     "execution_count": 251,
     "metadata": {},
     "output_type": "execute_result"
    }
   ],
   "source": [
    "a"
   ]
  },
  {
   "cell_type": "code",
   "execution_count": 252,
   "id": "72b4db23-505a-409b-9ce8-fd6037bac096",
   "metadata": {
    "tags": []
   },
   "outputs": [
    {
     "data": {
      "text/plain": [
       "array([12, 10])"
      ]
     },
     "execution_count": 252,
     "metadata": {},
     "output_type": "execute_result"
    }
   ],
   "source": [
    "b"
   ]
  },
  {
   "cell_type": "code",
   "execution_count": 254,
   "id": "e39c3df5-2775-459b-b10d-ad3ae0c14712",
   "metadata": {
    "tags": []
   },
   "outputs": [
    {
     "data": {
      "text/plain": [
       "array([1.85714286, 2.71428571])"
      ]
     },
     "execution_count": 254,
     "metadata": {},
     "output_type": "execute_result"
    }
   ],
   "source": [
    "x = np.linalg.solve(a,b)  #iki argümanın arasındaki ilişkiye göre cevabı bul diyoruz.\n",
    "x"
   ]
  },
  {
   "cell_type": "code",
   "execution_count": null,
   "id": "28745a4c-a734-4baf-8250-8fec1fd99f86",
   "metadata": {},
   "outputs": [],
   "source": []
  }
 ],
 "metadata": {
  "kernelspec": {
   "display_name": "Python 3 (ipykernel)",
   "language": "python",
   "name": "python3"
  },
  "language_info": {
   "codemirror_mode": {
    "name": "ipython",
    "version": 3
   },
   "file_extension": ".py",
   "mimetype": "text/x-python",
   "name": "python",
   "nbconvert_exporter": "python",
   "pygments_lexer": "ipython3",
   "version": "3.11.5"
  }
 },
 "nbformat": 4,
 "nbformat_minor": 5
}
