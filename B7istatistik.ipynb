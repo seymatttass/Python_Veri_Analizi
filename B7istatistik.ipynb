{
 "cells": [
  {
   "cell_type": "markdown",
   "id": "bcf571d7-11d3-481d-901c-3e106c490af6",
   "metadata": {},
   "source": [
    "# VERİ BİLİMİ İÇİN İSTATİSTİK "
   ]
  },
  {
   "cell_type": "markdown",
   "id": "9fc5462d-046a-48df-aa24-c766104eb1e2",
   "metadata": {
    "tags": []
   },
   "source": [
    "### ÖRNEK TEORİSİ"
   ]
  },
  {
   "cell_type": "code",
   "execution_count": 2,
   "id": "0bec9bda-d678-4b3a-9b15-d124f91816db",
   "metadata": {
    "tags": []
   },
   "outputs": [],
   "source": [
    "# ÖRNEKLEME İLİŞKİN UYG. \n",
    "# bir ilçedeki kişilerin yaşlarına göre çıkarım yapacağız.ortalamasını alacağız."
   ]
  },
  {
   "cell_type": "code",
   "execution_count": 3,
   "id": "44943b70-671f-4625-9d67-63ca5ea14165",
   "metadata": {
    "tags": []
   },
   "outputs": [],
   "source": [
    "import numpy as np "
   ]
  },
  {
   "cell_type": "code",
   "execution_count": 4,
   "id": "cb509c3c-8de5-4fdb-a9fa-c35b4e4f5983",
   "metadata": {
    "tags": []
   },
   "outputs": [],
   "source": [
    "populasyon = np.random.randint(0,80,10000)   #0-80 arasında on bin ikşilik random pop. oluşturduk"
   ]
  },
  {
   "cell_type": "code",
   "execution_count": 5,
   "id": "d1203042-53f1-4b99-a3f3-b38dcd072e14",
   "metadata": {
    "tags": []
   },
   "outputs": [
    {
     "data": {
      "text/plain": [
       "array([53, 26, 51, 47, 67, 69, 75,  6, 56, 47])"
      ]
     },
     "execution_count": 5,
     "metadata": {},
     "output_type": "execute_result"
    }
   ],
   "source": [
    "populasyon[0:10]"
   ]
  },
  {
   "cell_type": "code",
   "execution_count": 7,
   "id": "038e1345-0e64-4aa6-ad31-f2988a412376",
   "metadata": {
    "tags": []
   },
   "outputs": [
    {
     "data": {
      "text/plain": [
       "array([45, 41, 31, 75, 32, 21, 69, 59, 60, 18])"
      ]
     },
     "execution_count": 7,
     "metadata": {},
     "output_type": "execute_result"
    }
   ],
   "source": [
    "# örneklem çekimi \n",
    "\n",
    "np.random.seed(115)             #seed yapılan işlemlerin her yaptığımızda aynı yapıya göre çekmesi için.\n",
    "orneklem = np.random.choice(a = populasyon,size =100)\n",
    "orneklem[0:10]"
   ]
  },
  {
   "cell_type": "code",
   "execution_count": 8,
   "id": "dad6e3dc-f6e6-4a78-9bb5-5ed75111770a",
   "metadata": {
    "tags": []
   },
   "outputs": [
    {
     "data": {
      "text/plain": [
       "40.86"
      ]
     },
     "execution_count": 8,
     "metadata": {},
     "output_type": "execute_result"
    }
   ],
   "source": [
    "orneklem.mean()"
   ]
  },
  {
   "cell_type": "code",
   "execution_count": 10,
   "id": "6ca2fcb4-dc7d-4505-8a46-61a7f6aee461",
   "metadata": {
    "tags": []
   },
   "outputs": [
    {
     "data": {
      "text/plain": [
       "39.3859"
      ]
     },
     "execution_count": 10,
     "metadata": {},
     "output_type": "execute_result"
    }
   ],
   "source": [
    "populasyon.mean()"
   ]
  },
  {
   "cell_type": "code",
   "execution_count": 11,
   "id": "2cb83947-7f6d-4fc8-99a4-2ad7e5c774ff",
   "metadata": {
    "tags": []
   },
   "outputs": [],
   "source": [
    "# orneklem dağılımı"
   ]
  },
  {
   "cell_type": "code",
   "execution_count": 16,
   "id": "116b05aa-b595-44fb-9f2c-6b4b5d43e581",
   "metadata": {
    "tags": []
   },
   "outputs": [],
   "source": [
    "np.random.seed(10)\n",
    "orneklem1 = np.random.choice(a = populasyon,size =100)\n",
    "orneklem2 = np.random.choice(a = populasyon,size =100)\n",
    "orneklem3 = np.random.choice(a = populasyon,size =100)      #birbirinden farklı 10 tane örneklem.\n",
    "orneklem4 = np.random.choice(a = populasyon,size =100)\n",
    "orneklem5 = np.random.choice(a = populasyon,size =100)\n",
    "orneklem6 = np.random.choice(a = populasyon,size =100)\n",
    "orneklem7 = np.random.choice(a = populasyon,size =100)\n",
    "orneklem8 = np.random.choice(a = populasyon,size =100)\n",
    "orneklem9 = np.random.choice(a = populasyon,size =100)\n",
    "orneklem10 = np.random.choice(a = populasyon,size =100)"
   ]
  },
  {
   "cell_type": "code",
   "execution_count": 18,
   "id": "d4be588d-ecdc-4624-b829-79583a648fbd",
   "metadata": {
    "tags": []
   },
   "outputs": [
    {
     "data": {
      "text/plain": [
       "40.05400000000001"
      ]
     },
     "execution_count": 18,
     "metadata": {},
     "output_type": "execute_result"
    }
   ],
   "source": [
    "(orneklem1.mean()+orneklem2.mean()+orneklem3.mean()+orneklem4.mean()+orneklem5.mean()+\n",
    "orneklem6.mean()+orneklem7.mean()+orneklem8.mean()+orneklem9.mean()+orneklem10.mean()) /10\n",
    "\n",
    "# örneklemlerin ortalamalrı popülasyon ortalamalrına çok çok yakındır."
   ]
  },
  {
   "cell_type": "markdown",
   "id": "a255029e-ba79-4256-a211-ab3465eeb99a",
   "metadata": {},
   "source": [
    "# BETİMSEL İSTATİSTİKLER "
   ]
  },
  {
   "cell_type": "code",
   "execution_count": 19,
   "id": "c488d668-7c42-4123-af8b-d2f63b001059",
   "metadata": {
    "tags": []
   },
   "outputs": [
    {
     "data": {
      "text/html": [
       "<div>\n",
       "<style scoped>\n",
       "    .dataframe tbody tr th:only-of-type {\n",
       "        vertical-align: middle;\n",
       "    }\n",
       "\n",
       "    .dataframe tbody tr th {\n",
       "        vertical-align: top;\n",
       "    }\n",
       "\n",
       "    .dataframe thead th {\n",
       "        text-align: right;\n",
       "    }\n",
       "</style>\n",
       "<table border=\"1\" class=\"dataframe\">\n",
       "  <thead>\n",
       "    <tr style=\"text-align: right;\">\n",
       "      <th></th>\n",
       "      <th>total_bill</th>\n",
       "      <th>tip</th>\n",
       "      <th>sex</th>\n",
       "      <th>smoker</th>\n",
       "      <th>day</th>\n",
       "      <th>time</th>\n",
       "      <th>size</th>\n",
       "    </tr>\n",
       "  </thead>\n",
       "  <tbody>\n",
       "    <tr>\n",
       "      <th>0</th>\n",
       "      <td>16.99</td>\n",
       "      <td>1.01</td>\n",
       "      <td>Female</td>\n",
       "      <td>No</td>\n",
       "      <td>Sun</td>\n",
       "      <td>Dinner</td>\n",
       "      <td>2</td>\n",
       "    </tr>\n",
       "    <tr>\n",
       "      <th>1</th>\n",
       "      <td>10.34</td>\n",
       "      <td>1.66</td>\n",
       "      <td>Male</td>\n",
       "      <td>No</td>\n",
       "      <td>Sun</td>\n",
       "      <td>Dinner</td>\n",
       "      <td>3</td>\n",
       "    </tr>\n",
       "    <tr>\n",
       "      <th>2</th>\n",
       "      <td>21.01</td>\n",
       "      <td>3.50</td>\n",
       "      <td>Male</td>\n",
       "      <td>No</td>\n",
       "      <td>Sun</td>\n",
       "      <td>Dinner</td>\n",
       "      <td>3</td>\n",
       "    </tr>\n",
       "    <tr>\n",
       "      <th>3</th>\n",
       "      <td>23.68</td>\n",
       "      <td>3.31</td>\n",
       "      <td>Male</td>\n",
       "      <td>No</td>\n",
       "      <td>Sun</td>\n",
       "      <td>Dinner</td>\n",
       "      <td>2</td>\n",
       "    </tr>\n",
       "    <tr>\n",
       "      <th>4</th>\n",
       "      <td>24.59</td>\n",
       "      <td>3.61</td>\n",
       "      <td>Female</td>\n",
       "      <td>No</td>\n",
       "      <td>Sun</td>\n",
       "      <td>Dinner</td>\n",
       "      <td>4</td>\n",
       "    </tr>\n",
       "  </tbody>\n",
       "</table>\n",
       "</div>"
      ],
      "text/plain": [
       "   total_bill   tip     sex smoker  day    time  size\n",
       "0       16.99  1.01  Female     No  Sun  Dinner     2\n",
       "1       10.34  1.66    Male     No  Sun  Dinner     3\n",
       "2       21.01  3.50    Male     No  Sun  Dinner     3\n",
       "3       23.68  3.31    Male     No  Sun  Dinner     2\n",
       "4       24.59  3.61  Female     No  Sun  Dinner     4"
      ]
     },
     "execution_count": 19,
     "metadata": {},
     "output_type": "execute_result"
    }
   ],
   "source": [
    "import seaborn as sns\n",
    "tips = sns.load_dataset(\"tips\")\n",
    "df = tips.copy()\n",
    "df.head()"
   ]
  },
  {
   "cell_type": "code",
   "execution_count": 20,
   "id": "b4620e1d-bd41-4c0b-8bf5-51435bb4d174",
   "metadata": {
    "tags": []
   },
   "outputs": [
    {
     "data": {
      "text/html": [
       "<div>\n",
       "<style scoped>\n",
       "    .dataframe tbody tr th:only-of-type {\n",
       "        vertical-align: middle;\n",
       "    }\n",
       "\n",
       "    .dataframe tbody tr th {\n",
       "        vertical-align: top;\n",
       "    }\n",
       "\n",
       "    .dataframe thead th {\n",
       "        text-align: right;\n",
       "    }\n",
       "</style>\n",
       "<table border=\"1\" class=\"dataframe\">\n",
       "  <thead>\n",
       "    <tr style=\"text-align: right;\">\n",
       "      <th></th>\n",
       "      <th>count</th>\n",
       "      <th>mean</th>\n",
       "      <th>std</th>\n",
       "      <th>min</th>\n",
       "      <th>25%</th>\n",
       "      <th>50%</th>\n",
       "      <th>75%</th>\n",
       "      <th>max</th>\n",
       "    </tr>\n",
       "  </thead>\n",
       "  <tbody>\n",
       "    <tr>\n",
       "      <th>total_bill</th>\n",
       "      <td>244.0</td>\n",
       "      <td>19.785943</td>\n",
       "      <td>8.902412</td>\n",
       "      <td>3.07</td>\n",
       "      <td>13.3475</td>\n",
       "      <td>17.795</td>\n",
       "      <td>24.1275</td>\n",
       "      <td>50.81</td>\n",
       "    </tr>\n",
       "    <tr>\n",
       "      <th>tip</th>\n",
       "      <td>244.0</td>\n",
       "      <td>2.998279</td>\n",
       "      <td>1.383638</td>\n",
       "      <td>1.00</td>\n",
       "      <td>2.0000</td>\n",
       "      <td>2.900</td>\n",
       "      <td>3.5625</td>\n",
       "      <td>10.00</td>\n",
       "    </tr>\n",
       "    <tr>\n",
       "      <th>size</th>\n",
       "      <td>244.0</td>\n",
       "      <td>2.569672</td>\n",
       "      <td>0.951100</td>\n",
       "      <td>1.00</td>\n",
       "      <td>2.0000</td>\n",
       "      <td>2.000</td>\n",
       "      <td>3.0000</td>\n",
       "      <td>6.00</td>\n",
       "    </tr>\n",
       "  </tbody>\n",
       "</table>\n",
       "</div>"
      ],
      "text/plain": [
       "            count       mean       std   min      25%     50%      75%    max\n",
       "total_bill  244.0  19.785943  8.902412  3.07  13.3475  17.795  24.1275  50.81\n",
       "tip         244.0   2.998279  1.383638  1.00   2.0000   2.900   3.5625  10.00\n",
       "size        244.0   2.569672  0.951100  1.00   2.0000   2.000   3.0000   6.00"
      ]
     },
     "execution_count": 20,
     "metadata": {},
     "output_type": "execute_result"
    }
   ],
   "source": [
    "df.describe().T"
   ]
  },
  {
   "cell_type": "code",
   "execution_count": 23,
   "id": "3133ce6c-8e5f-47da-a240-bc3a63dbbc6f",
   "metadata": {
    "collapsed": true,
    "jupyter": {
     "outputs_hidden": true
    },
    "tags": []
   },
   "outputs": [
    {
     "name": "stdout",
     "output_type": "stream",
     "text": [
      "Requirement already satisfied: researchpy in c:\\users\\msi\\anaconda3\\lib\\site-packages (0.3.5)\n",
      "Requirement already satisfied: scipy in c:\\users\\msi\\anaconda3\\lib\\site-packages (from researchpy) (1.11.1)\n",
      "Requirement already satisfied: numpy in c:\\users\\msi\\anaconda3\\lib\\site-packages (from researchpy) (1.24.3)\n",
      "Requirement already satisfied: pandas in c:\\users\\msi\\anaconda3\\lib\\site-packages (from researchpy) (2.0.3)\n",
      "Requirement already satisfied: statsmodels in c:\\users\\msi\\anaconda3\\lib\\site-packages (from researchpy) (0.14.0)\n",
      "Requirement already satisfied: patsy in c:\\users\\msi\\anaconda3\\lib\\site-packages (from researchpy) (0.5.3)\n",
      "Requirement already satisfied: python-dateutil>=2.8.2 in c:\\users\\msi\\anaconda3\\lib\\site-packages (from pandas->researchpy) (2.8.2)\n",
      "Requirement already satisfied: pytz>=2020.1 in c:\\users\\msi\\anaconda3\\lib\\site-packages (from pandas->researchpy) (2023.3.post1)\n",
      "Requirement already satisfied: tzdata>=2022.1 in c:\\users\\msi\\anaconda3\\lib\\site-packages (from pandas->researchpy) (2023.3)\n",
      "Requirement already satisfied: six in c:\\users\\msi\\anaconda3\\lib\\site-packages (from patsy->researchpy) (1.16.0)\n",
      "Requirement already satisfied: packaging>=21.3 in c:\\users\\msi\\anaconda3\\lib\\site-packages (from statsmodels->researchpy) (23.1)\n",
      "Note: you may need to restart the kernel to use updated packages.\n"
     ]
    }
   ],
   "source": [
    "pip install researchpy"
   ]
  },
  {
   "cell_type": "code",
   "execution_count": 26,
   "id": "021e4cf8-3ae2-4692-9ee0-052ab6ce6bf9",
   "metadata": {
    "tags": []
   },
   "outputs": [],
   "source": [
    "import researchpy as rp"
   ]
  },
  {
   "cell_type": "code",
   "execution_count": 43,
   "id": "1382eb2e-98dd-4fc1-b41a-175e967277f8",
   "metadata": {
    "tags": []
   },
   "outputs": [
    {
     "data": {
      "text/html": [
       "<div>\n",
       "<style scoped>\n",
       "    .dataframe tbody tr th:only-of-type {\n",
       "        vertical-align: middle;\n",
       "    }\n",
       "\n",
       "    .dataframe tbody tr th {\n",
       "        vertical-align: top;\n",
       "    }\n",
       "\n",
       "    .dataframe thead th {\n",
       "        text-align: right;\n",
       "    }\n",
       "</style>\n",
       "<table border=\"1\" class=\"dataframe\">\n",
       "  <thead>\n",
       "    <tr style=\"text-align: right;\">\n",
       "      <th></th>\n",
       "      <th>Name</th>\n",
       "      <th>N</th>\n",
       "      <th>Mean</th>\n",
       "      <th>Median</th>\n",
       "      <th>Variance</th>\n",
       "      <th>SD</th>\n",
       "      <th>SE</th>\n",
       "      <th>95% Conf. Interval</th>\n",
       "    </tr>\n",
       "  </thead>\n",
       "  <tbody>\n",
       "    <tr>\n",
       "      <th>0</th>\n",
       "      <td>total_bill</td>\n",
       "      <td>244</td>\n",
       "      <td>19.7859</td>\n",
       "      <td>17.795</td>\n",
       "      <td>79.2529</td>\n",
       "      <td>8.9024</td>\n",
       "      <td>0.5699</td>\n",
       "      <td>total_bill</td>\n",
       "    </tr>\n",
       "    <tr>\n",
       "      <th>1</th>\n",
       "      <td>tip</td>\n",
       "      <td>244</td>\n",
       "      <td>2.9983</td>\n",
       "      <td>2.9</td>\n",
       "      <td>1.9145</td>\n",
       "      <td>1.3836</td>\n",
       "      <td>0.0886</td>\n",
       "      <td>tip</td>\n",
       "    </tr>\n",
       "    <tr>\n",
       "      <th>2</th>\n",
       "      <td>size</td>\n",
       "      <td>244</td>\n",
       "      <td>2.5697</td>\n",
       "      <td>2.0</td>\n",
       "      <td>0.9046</td>\n",
       "      <td>0.9511</td>\n",
       "      <td>0.0609</td>\n",
       "      <td>size</td>\n",
       "    </tr>\n",
       "  </tbody>\n",
       "</table>\n",
       "</div>"
      ],
      "text/plain": [
       "         Name    N     Mean  Median Variance      SD      SE  \\\n",
       "0  total_bill  244  19.7859  17.795  79.2529  8.9024  0.5699   \n",
       "1         tip  244   2.9983     2.9   1.9145  1.3836  0.0886   \n",
       "2        size  244   2.5697     2.0   0.9046  0.9511  0.0609   \n",
       "\n",
       "  95% Conf. Interval  \n",
       "0         total_bill  \n",
       "1                tip  \n",
       "2               size  "
      ]
     },
     "execution_count": 43,
     "metadata": {},
     "output_type": "execute_result"
    }
   ],
   "source": [
    "rp.summarize(df[[\"total_bill\", \"tip\", \"size\"]])\n",
    "# sürekli sayısal değişkenlerde summarize kullanılıyor."
   ]
  },
  {
   "cell_type": "code",
   "execution_count": 47,
   "id": "8963bf2d-899d-4863-87b0-4f81922fe8cc",
   "metadata": {
    "tags": []
   },
   "outputs": [],
   "source": [
    "#   rp.summary_cat(df[[\"sex\", \"smoker\", \"day\"]])  #çalışmadı kod kategorik değişkenlerin sınıf  ı sunar"
   ]
  },
  {
   "cell_type": "code",
   "execution_count": 51,
   "id": "e2dd540d-b6e0-41f7-b8e3-28772333acae",
   "metadata": {
    "tags": []
   },
   "outputs": [
    {
     "data": {
      "text/html": [
       "<div>\n",
       "<style scoped>\n",
       "    .dataframe tbody tr th:only-of-type {\n",
       "        vertical-align: middle;\n",
       "    }\n",
       "\n",
       "    .dataframe tbody tr th {\n",
       "        vertical-align: top;\n",
       "    }\n",
       "\n",
       "    .dataframe thead th {\n",
       "        text-align: right;\n",
       "    }\n",
       "</style>\n",
       "<table border=\"1\" class=\"dataframe\">\n",
       "  <thead>\n",
       "    <tr style=\"text-align: right;\">\n",
       "      <th></th>\n",
       "      <th>tip</th>\n",
       "      <th>total_bill</th>\n",
       "    </tr>\n",
       "  </thead>\n",
       "  <tbody>\n",
       "    <tr>\n",
       "      <th>tip</th>\n",
       "      <td>1.914455</td>\n",
       "      <td>8.323502</td>\n",
       "    </tr>\n",
       "    <tr>\n",
       "      <th>total_bill</th>\n",
       "      <td>8.323502</td>\n",
       "      <td>79.252939</td>\n",
       "    </tr>\n",
       "  </tbody>\n",
       "</table>\n",
       "</div>"
      ],
      "text/plain": [
       "                 tip  total_bill\n",
       "tip         1.914455    8.323502\n",
       "total_bill  8.323502   79.252939"
      ]
     },
     "execution_count": 51,
     "metadata": {},
     "output_type": "execute_result"
    }
   ],
   "source": [
    "df[[\"tip\",\"total_bill\"]].cov()\n",
    "\n",
    "#kovaryans bilgisi değişkenlerin ilişkilerine ilişkin değişkenlik ölçüsü verir."
   ]
  },
  {
   "cell_type": "code",
   "execution_count": 54,
   "id": "3807a238-fb83-4092-95d4-10e4300b249f",
   "metadata": {
    "tags": []
   },
   "outputs": [
    {
     "data": {
      "text/html": [
       "<div>\n",
       "<style scoped>\n",
       "    .dataframe tbody tr th:only-of-type {\n",
       "        vertical-align: middle;\n",
       "    }\n",
       "\n",
       "    .dataframe tbody tr th {\n",
       "        vertical-align: top;\n",
       "    }\n",
       "\n",
       "    .dataframe thead th {\n",
       "        text-align: right;\n",
       "    }\n",
       "</style>\n",
       "<table border=\"1\" class=\"dataframe\">\n",
       "  <thead>\n",
       "    <tr style=\"text-align: right;\">\n",
       "      <th></th>\n",
       "      <th>tip</th>\n",
       "      <th>total_bill</th>\n",
       "    </tr>\n",
       "  </thead>\n",
       "  <tbody>\n",
       "    <tr>\n",
       "      <th>tip</th>\n",
       "      <td>1.000000</td>\n",
       "      <td>0.675734</td>\n",
       "    </tr>\n",
       "    <tr>\n",
       "      <th>total_bill</th>\n",
       "      <td>0.675734</td>\n",
       "      <td>1.000000</td>\n",
       "    </tr>\n",
       "  </tbody>\n",
       "</table>\n",
       "</div>"
      ],
      "text/plain": [
       "                 tip  total_bill\n",
       "tip         1.000000    0.675734\n",
       "total_bill  0.675734    1.000000"
      ]
     },
     "execution_count": 54,
     "metadata": {},
     "output_type": "execute_result"
    }
   ],
   "source": [
    "df[[\"tip\",\"total_bill\"]].corr()\n",
    "\n",
    "# korelasyon iki değişken arasındaki ilişki 0.67 yani pozitif yönlü orta şiddetli bir korelasyon"
   ]
  },
  {
   "cell_type": "markdown",
   "id": "985cba5d-2a88-4db3-a242-e995936167ca",
   "metadata": {
    "tags": []
   },
   "source": [
    "# İŞ UYGULAMASI : Fiyat Stratejisi Karar Destek"
   ]
  },
  {
   "cell_type": "code",
   "execution_count": 57,
   "id": "3c03ae8b-06d4-40c8-b56d-374e0cbb1aaf",
   "metadata": {
    "tags": []
   },
   "outputs": [],
   "source": [
    "import numpy as np \n",
    "fiyatlar = np.random.randint(10,110,1000)"
   ]
  },
  {
   "cell_type": "code",
   "execution_count": 58,
   "id": "d5f6d92b-f8ab-411b-a37f-3594f5043f07",
   "metadata": {
    "tags": []
   },
   "outputs": [
    {
     "data": {
      "text/plain": [
       "58.492"
      ]
     },
     "execution_count": 58,
     "metadata": {},
     "output_type": "execute_result"
    }
   ],
   "source": [
    "fiyatlar.mean()"
   ]
  },
  {
   "cell_type": "code",
   "execution_count": 61,
   "id": "967f00db-f809-41e9-8845-64314b93852d",
   "metadata": {
    "tags": []
   },
   "outputs": [],
   "source": [
    "import statsmodels.stats.api as sms   #güven aralığı koyacağız."
   ]
  },
  {
   "cell_type": "code",
   "execution_count": 63,
   "id": "6fe3a06a-b629-4f8b-8bc1-de3474882179",
   "metadata": {
    "tags": []
   },
   "outputs": [
    {
     "data": {
      "text/plain": [
       "(56.67953887736034, 60.30446112263965)"
      ]
     },
     "execution_count": 63,
     "metadata": {},
     "output_type": "execute_result"
    }
   ],
   "source": [
    "sms.DescrStatsW(fiyatlar).tconfint_mean()\n",
    "\n",
    "# ödemeyi göze alınan değr 56 ile 60 arasındadır.95 güven aralığıyla herzaman."
   ]
  },
  {
   "cell_type": "markdown",
   "id": "7ddfee55-519b-4db9-91a3-7b97fac18de3",
   "metadata": {},
   "source": [
    "# OLASILIK DAĞILIMLARI"
   ]
  },
  {
   "cell_type": "markdown",
   "id": "3507108b-7a90-493a-8ac6-5114c023de06",
   "metadata": {},
   "source": [
    "### BERNOULLİ DAĞILIMI"
   ]
  },
  {
   "cell_type": "markdown",
   "id": "5419ee00-cb9d-437f-b619-d2b8706a6cd6",
   "metadata": {
    "tags": []
   },
   "source": [
    "${\\displaystyle f(k;p)=p^{k}(1-p)^{1-k}\\quad {\\text{for }}k\\in \\{0,1\\}}$\n",
    "\n",
    "${\\displaystyle \\operatorname {E} \\left(X\\right)=p}$\n",
    "\n",
    "$\\operatorname {Var} [X]=pq=p(1-p)$"
   ]
  },
  {
   "cell_type": "code",
   "execution_count": 68,
   "id": "49d22d01-bb18-49ea-9540-650d5279302c",
   "metadata": {
    "tags": []
   },
   "outputs": [],
   "source": [
    "from scipy.stats import bernoulli \n",
    "#scipy kütüphanesi olasılık dağılımları ile ilgilii işlemler için kullanıyoruz."
   ]
  },
  {
   "cell_type": "code",
   "execution_count": 69,
   "id": "3da8bf8b-86a9-4cef-b11a-63b29208ff8b",
   "metadata": {
    "tags": []
   },
   "outputs": [],
   "source": [
    "p = 0.6"
   ]
  },
  {
   "cell_type": "code",
   "execution_count": 72,
   "id": "0260d3f3-befb-41b2-8a07-e6989e460dbb",
   "metadata": {
    "tags": []
   },
   "outputs": [
    {
     "data": {
      "text/plain": [
       "0.6"
      ]
     },
     "execution_count": 72,
     "metadata": {},
     "output_type": "execute_result"
    }
   ],
   "source": [
    "rv = bernoulli(p)\n",
    "rv.pmf(k=1)           #k 1 ise true\n",
    "\n",
    "# pmf : olasılık kütle fonksiyonu"
   ]
  },
  {
   "cell_type": "code",
   "execution_count": 73,
   "id": "363d659f-1cb0-47b2-8676-35d93acaed19",
   "metadata": {
    "tags": []
   },
   "outputs": [
    {
     "data": {
      "text/plain": [
       "0.4000000000000001"
      ]
     },
     "execution_count": 73,
     "metadata": {},
     "output_type": "execute_result"
    }
   ],
   "source": [
    "rv = bernoulli(p)\n",
    "rv.pmf(k=0)            # k 0 ise false"
   ]
  },
  {
   "cell_type": "markdown",
   "id": "bffabd09-f75f-4a53-8b77-2f6e2749ee88",
   "metadata": {},
   "source": [
    "# BÜYÜK SAYILAR YASASI"
   ]
  },
  {
   "cell_type": "markdown",
   "id": "ca7ef560-71cd-41f2-8045-2ca6ad667184",
   "metadata": {
    "tags": []
   },
   "source": [
    "### Bir rassal değişkenin uzun vadeli kararlılığını tanımlayan olasılık terimidir."
   ]
  },
  {
   "cell_type": "code",
   "execution_count": 85,
   "id": "dda57448-e1ca-4e02-a7a8-893799206bdb",
   "metadata": {
    "tags": []
   },
   "outputs": [
    {
     "name": "stdout",
     "output_type": "stream",
     "text": [
      "Atış Sayısı: 2 --- Yazı olasılığı: 50.00\n",
      "Atış Sayısı: 4 --- Yazı olasılığı: 0.00\n",
      "Atış Sayısı: 8 --- Yazı olasılığı: 62.50\n",
      "Atış Sayısı: 16 --- Yazı olasılığı: 43.75\n",
      "Atış Sayısı: 32 --- Yazı olasılığı: 46.88\n",
      "Atış Sayısı: 64 --- Yazı olasılığı: 56.25\n",
      "Atış Sayısı: 128 --- Yazı olasılığı: 50.78\n",
      "Atış Sayısı: 256 --- Yazı olasılığı: 52.73\n",
      "Atış Sayısı: 512 --- Yazı olasılığı: 52.93\n",
      "Atış Sayısı: 1024 --- Yazı olasılığı: 50.20\n",
      "Atış Sayısı: 2048 --- Yazı olasılığı: 48.58\n",
      "Atış Sayısı: 4096 --- Yazı olasılığı: 49.49\n",
      "Atış Sayısı: 8192 --- Yazı olasılığı: 49.58\n",
      "Atış Sayısı: 16384 --- Yazı olasılığı: 49.96\n",
      "Atış Sayısı: 32768 --- Yazı olasılığı: 50.00\n",
      "Atış Sayısı: 65536 --- Yazı olasılığı: 49.68\n",
      "Atış Sayısı: 131072 --- Yazı olasılığı: 49.97\n",
      "Atış Sayısı: 262144 --- Yazı olasılığı: 50.13\n",
      "Atış Sayısı: 524288 --- Yazı olasılığı: 50.01\n",
      "Atış Sayısı: 1048576 --- Yazı olasılığı: 50.09\n"
     ]
    }
   ],
   "source": [
    "import numpy as np \n",
    "rng = np.random.RandomState(123) #randomstate ile işlmeleri sabitliyoruz.\n",
    "for i in np.arange(1,21):    #1 den 20 ye kadar git.\n",
    "    deney_sayisi = 2**i      #atış sayısı 2 nin üsleri\n",
    "    yazi_turalar = rng.randint(0,2,size = deney_sayisi)\n",
    "    yazi_olasiliklari = np.mean(yazi_turalar)\n",
    "    print(\"Atış Sayısı:\",deney_sayisi,\"---\",'Yazı olasılığı: %.2f' % (yazi_olasiliklari  * 100))\n",
    "    \n",
    "# 2f noktadan sonra iki basamak getir demektir.    "
   ]
  },
  {
   "cell_type": "code",
   "execution_count": 81,
   "id": "d27dd255-4435-47ec-89a4-ea290b36c5b6",
   "metadata": {
    "tags": []
   },
   "outputs": [
    {
     "data": {
      "text/plain": [
       "0.2"
      ]
     },
     "execution_count": 81,
     "metadata": {},
     "output_type": "execute_result"
    }
   ],
   "source": [
    "1/5   #1 yazı 4 tura(yüzde 50 biliyorduk...ÇIKMADI.)\n",
    "\n",
    "# YAZI TURA DENEYİ RASTGELE DEĞİŞKENDİR."
   ]
  },
  {
   "cell_type": "markdown",
   "id": "f5422575-4b14-4ffb-acf1-d162235dae97",
   "metadata": {},
   "source": [
    "# BİNOM İŞ UYGULAMASI : REKLAM HARCAMASI OPTİMİZASYONU "
   ]
  },
  {
   "cell_type": "code",
   "execution_count": 1,
   "id": "3c6cbc7a-9668-4842-be83-eca06065283d",
   "metadata": {
    "tags": []
   },
   "outputs": [],
   "source": [
    "from scipy.stats import binom "
   ]
  },
  {
   "cell_type": "code",
   "execution_count": 2,
   "id": "d53dbc28-17b1-4c2f-bf30-165d92cf9978",
   "metadata": {
    "tags": []
   },
   "outputs": [
    {
     "name": "stdout",
     "output_type": "stream",
     "text": [
      "0.36972963764972666\n",
      "0.002897787123761478\n",
      "7.006035693977194e-08\n"
     ]
    }
   ],
   "source": [
    "p = 0.01       # OLASILIK \n",
    "n = 100        # DENEME SAYISI\n",
    "rv = binom(n,p)\n",
    "print(rv.pmf(1))      #  1 kişi görmesi \n",
    "print(rv.pmf(5))      # 5 kişi görmesi\n",
    "print(rv.pmf(10))     # 10 kişi görmesi"
   ]
  },
  {
   "cell_type": "markdown",
   "id": "e1bc0349-f507-4b2a-86ff-7818cf5e32ad",
   "metadata": {},
   "source": [
    "# POİSSON DAĞILIMI"
   ]
  },
  {
   "cell_type": "code",
   "execution_count": 5,
   "id": "2dea9c11-e1b8-4455-8c96-4c85dc4ad8cc",
   "metadata": {
    "tags": []
   },
   "outputs": [],
   "source": [
    "from scipy.stats import poisson "
   ]
  },
  {
   "cell_type": "code",
   "execution_count": 6,
   "id": "8e66dc8a-4ed8-4093-9011-53b183b793f7",
   "metadata": {},
   "outputs": [],
   "source": [
    "lambda_ = 0.1"
   ]
  },
  {
   "cell_type": "code",
   "execution_count": 10,
   "id": "5f758c29-06ba-4ab1-a543-c614a782db3b",
   "metadata": {
    "tags": []
   },
   "outputs": [
    {
     "name": "stdout",
     "output_type": "stream",
     "text": [
      "0.9048374180359595\n"
     ]
    }
   ],
   "source": [
    "rv = poisson(mu= lambda_)    \n",
    "print(rv.pmf(k=0))             #k başarı sayısı,0 hiç hata olmamsı."
   ]
  },
  {
   "cell_type": "code",
   "execution_count": 11,
   "id": "3c1b6623-a38e-4489-937a-373d910ab0ea",
   "metadata": {
    "tags": []
   },
   "outputs": [
    {
     "name": "stdout",
     "output_type": "stream",
     "text": [
      "0.00015080623633932676\n"
     ]
    }
   ],
   "source": [
    "print(rv.pmf(k=3))            "
   ]
  },
  {
   "cell_type": "code",
   "execution_count": 12,
   "id": "7f6df5a1-85d6-4ca3-b456-cc9495104b91",
   "metadata": {
    "tags": []
   },
   "outputs": [
    {
     "name": "stdout",
     "output_type": "stream",
     "text": [
      "7.54031181696634e-08\n"
     ]
    }
   ],
   "source": [
    "print(rv.pmf(k=5))            "
   ]
  },
  {
   "cell_type": "markdown",
   "id": "e34469e4-7f52-45bc-9446-bcd8aa3fb1c4",
   "metadata": {},
   "source": [
    "# NORMAL DAĞILIM"
   ]
  },
  {
   "cell_type": "code",
   "execution_count": 17,
   "id": "7635e2d0-9d24-43cd-a036-153bbe55d750",
   "metadata": {
    "tags": []
   },
   "outputs": [],
   "source": [
    "from scipy.stats import norm"
   ]
  },
  {
   "cell_type": "code",
   "execution_count": 14,
   "id": "f20e4839-ae17-4a3c-8270-076e96213740",
   "metadata": {
    "tags": []
   },
   "outputs": [],
   "source": [
    "# 90 dan fazla olması"
   ]
  },
  {
   "cell_type": "code",
   "execution_count": 26,
   "id": "8253df34-203b-446f-b825-5adbcf1f6907",
   "metadata": {
    "tags": []
   },
   "outputs": [
    {
     "data": {
      "text/plain": [
       "0.02275013194817921"
      ]
     },
     "execution_count": 26,
     "metadata": {},
     "output_type": "execute_result"
    }
   ],
   "source": [
    "1-norm.cdf(90,80,5)       # eğrinin altında kalan alan 1 eşit old. için 1 den çıkardık.\n",
    "# 90 dan büyük bir alan tarayacağız bu yüzden kümülatif fonk.                \n",
    "#cdf kümülatif yoğunluk fonk.(hesaplamak istediğimiz değer,ortalama,standartsapma)"
   ]
  },
  {
   "cell_type": "code",
   "execution_count": 19,
   "id": "12d7fc21-2479-4c82-99da-27f5931138ac",
   "metadata": {
    "tags": []
   },
   "outputs": [],
   "source": [
    "# 70 den fazla olması "
   ]
  },
  {
   "cell_type": "code",
   "execution_count": 20,
   "id": "879459aa-3ed2-4796-8fe7-683ce5913e56",
   "metadata": {
    "tags": []
   },
   "outputs": [
    {
     "data": {
      "text/plain": [
       "0.9772498680518208"
      ]
     },
     "execution_count": 20,
     "metadata": {},
     "output_type": "execute_result"
    }
   ],
   "source": [
    "1-norm.cdf(70,80,5) "
   ]
  },
  {
   "cell_type": "code",
   "execution_count": 21,
   "id": "73a70448-407a-4001-851b-b63d3a2ac160",
   "metadata": {
    "tags": []
   },
   "outputs": [],
   "source": [
    "# 73 den az olması"
   ]
  },
  {
   "cell_type": "code",
   "execution_count": 23,
   "id": "6237c06f-0298-4be0-8f82-8af82c10f14b",
   "metadata": {
    "tags": []
   },
   "outputs": [
    {
     "data": {
      "text/plain": [
       "0.08075665923377107"
      ]
     },
     "execution_count": 23,
     "metadata": {},
     "output_type": "execute_result"
    }
   ],
   "source": [
    "norm.cdf(73,80,5) "
   ]
  },
  {
   "cell_type": "code",
   "execution_count": 22,
   "id": "10e508e4-30da-40c0-9736-934a30ea9ead",
   "metadata": {
    "tags": []
   },
   "outputs": [],
   "source": [
    "# 85 ile 90 arasında olması"
   ]
  },
  {
   "cell_type": "code",
   "execution_count": 24,
   "id": "919a1c97-9bb5-4d01-aca4-24eecdb7e1bb",
   "metadata": {
    "tags": []
   },
   "outputs": [
    {
     "data": {
      "text/plain": [
       "0.13590512198327787"
      ]
     },
     "execution_count": 24,
     "metadata": {},
     "output_type": "execute_result"
    }
   ],
   "source": [
    "norm.cdf(90,80,5) - norm.cdf(85,80,5) "
   ]
  },
  {
   "cell_type": "markdown",
   "id": "117db178-c555-4749-81e2-59bf03ad20d3",
   "metadata": {},
   "source": [
    "# TEK ÖRNEKLEM T TESTİ "
   ]
  },
  {
   "cell_type": "markdown",
   "id": "a7b059af-0022-440c-bcac-d117dcf5bbd0",
   "metadata": {
    "tags": []
   },
   "source": [
    "### ÖRNEK ORTALAMASINA İLİŞKİN TEST YAPMAK İÇİN KULLANILIR."
   ]
  },
  {
   "cell_type": "code",
   "execution_count": 21,
   "id": "760b4a76-21b6-4445-a739-6860498dce6d",
   "metadata": {
    "tags": []
   },
   "outputs": [],
   "source": [
    "import numpy as np\n",
    "\n",
    "olcumler = np.array([17,160,234,149,145,107,197,75,201,225,119,\n",
    "                    157,145,127,244,163,114,145,65,112,185,202,146,\n",
    "                    203,224,203,114,188,156,187,154,177,95,165,50,110,\n",
    "                    216,138,151,166,135,155,84,251,173,131,207,121,120])"
   ]
  },
  {
   "cell_type": "code",
   "execution_count": 4,
   "id": "bde435de-744a-4f63-8e31-d153cea42643",
   "metadata": {
    "tags": []
   },
   "outputs": [
    {
     "data": {
      "text/plain": [
       "array([ 17, 160, 234, 149, 145, 107, 197,  75, 201, 225])"
      ]
     },
     "execution_count": 4,
     "metadata": {},
     "output_type": "execute_result"
    }
   ],
   "source": [
    "olcumler[0:10]"
   ]
  },
  {
   "cell_type": "code",
   "execution_count": 5,
   "id": "402bbcc4-521f-417e-b937-1c50abd343ee",
   "metadata": {
    "tags": []
   },
   "outputs": [],
   "source": [
    "import scipy.stats as stats"
   ]
  },
  {
   "cell_type": "code",
   "execution_count": 6,
   "id": "5132d0eb-964f-4df5-a38e-24aa1a61a393",
   "metadata": {
    "tags": []
   },
   "outputs": [
    {
     "data": {
      "text/plain": [
       "DescribeResult(nobs=49, minmax=(17, 251), mean=153.22448979591837, variance=2563.594387755102, skewness=-0.29385545075959546, kurtosis=-0.025575600133134646)"
      ]
     },
     "execution_count": 6,
     "metadata": {},
     "output_type": "execute_result"
    }
   ],
   "source": [
    "stats.describe(olcumler)"
   ]
  },
  {
   "cell_type": "code",
   "execution_count": 7,
   "id": "7722db33-4e1d-4f9a-a9b2-eccd69e7c226",
   "metadata": {},
   "outputs": [],
   "source": [
    "# 154 değeri şansa bağlı olmuş olabilir bu yüzden hipotez kurup test yapacağız."
   ]
  },
  {
   "cell_type": "code",
   "execution_count": 8,
   "id": "eaa42273-ad35-47ce-98c8-49cab70b7d09",
   "metadata": {
    "tags": []
   },
   "outputs": [],
   "source": [
    "# varsayımlar\n",
    "# normallik varsayımı"
   ]
  },
  {
   "cell_type": "code",
   "execution_count": 9,
   "id": "d7533d91-1ae1-4a03-a171-e675408e9aa1",
   "metadata": {
    "tags": []
   },
   "outputs": [],
   "source": [
    "# qqplot ve histogram gibi grafikleri de görüntülyebiliriz,değerlendirilebiliriz.görsel test yapabiliiriz."
   ]
  },
  {
   "cell_type": "code",
   "execution_count": 10,
   "id": "7697edf6-924e-4b30-9d64-8ed6a0e62304",
   "metadata": {
    "tags": []
   },
   "outputs": [],
   "source": [
    "# Shapiro-Wilks testi (test içinde test)"
   ]
  },
  {
   "cell_type": "code",
   "execution_count": 11,
   "id": "5c6a56e6-ee17-433a-a3f1-b19141d65a3b",
   "metadata": {
    "tags": []
   },
   "outputs": [],
   "source": [
    "# HO : örnek dağılımı ile teorik dağılım arasında istatistiksel olarak anlamlı bir fark yoktur. \n",
    "# H1 : ....... fark vardır."
   ]
  },
  {
   "cell_type": "code",
   "execution_count": 12,
   "id": "97660dbe-ac50-41b2-9d37-e8a0f60dabd2",
   "metadata": {
    "tags": []
   },
   "outputs": [],
   "source": [
    "from scipy.stats import shapiro #shapiro fonk. çağırdık."
   ]
  },
  {
   "cell_type": "code",
   "execution_count": 13,
   "id": "1668bc68-3558-4c81-b3cb-52e54a175bf8",
   "metadata": {
    "tags": []
   },
   "outputs": [
    {
     "data": {
      "text/plain": [
       "ShapiroResult(statistic=0.9865149855613708, pvalue=0.8422876596450806)"
      ]
     },
     "execution_count": 13,
     "metadata": {},
     "output_type": "execute_result"
    }
   ],
   "source": [
    "shapiro(olcumler)       # test istatistiği ve p value değeri.\n",
    "#varsayım sağlanıyor mu bunu denedik.\n",
    "# pvalue değeri 0.05 den küçükse h0 reddediyoruz.büyükse red edemiyoruz."
   ]
  },
  {
   "cell_type": "code",
   "execution_count": 14,
   "id": "4053eb83-c0f0-4cba-bed6-8ac8d7ee30db",
   "metadata": {
    "tags": []
   },
   "outputs": [
    {
     "name": "stdout",
     "output_type": "stream",
     "text": [
      "t hesap istatistiği0.9865149855613708\n",
      "hesaplanan p-value0.8422876596450806\n"
     ]
    }
   ],
   "source": [
    "print(\"t hesap istatistiği\" + str(shapiro(olcumler)[0]))\n",
    "print(\"hesaplanan p-value\" + str(shapiro(olcumler)[1]))"
   ]
  },
  {
   "cell_type": "code",
   "execution_count": 15,
   "id": "1b2a309b-4eff-451e-b0f5-3167299559f9",
   "metadata": {
    "tags": []
   },
   "outputs": [],
   "source": [
    "#  hipotez testinin uygulanması "
   ]
  },
  {
   "cell_type": "code",
   "execution_count": 16,
   "id": "42aee464-8a88-4d54-b572-b9a2dea3dc73",
   "metadata": {
    "tags": []
   },
   "outputs": [
    {
     "data": {
      "text/plain": [
       "TtestResult(statistic=-2.3192583104398103, pvalue=0.024682971906386443, df=48)"
      ]
     },
     "execution_count": 16,
     "metadata": {},
     "output_type": "execute_result"
    }
   ],
   "source": [
    "stats.ttest_1samp(olcumler,popmean = 170)  #0,05 den küçük ho reddeilir."
   ]
  },
  {
   "cell_type": "code",
   "execution_count": 17,
   "id": "283b64ef-ea29-4e34-807f-3add7f0829be",
   "metadata": {
    "tags": []
   },
   "outputs": [],
   "source": [
    "# h0 : web sitemizde geçirilen ort. süre 170 tir.\n",
    "# h1 : değişir 170 değildir.\n",
    "# ho reddedilir yani ort süre 170 değildir deriz..çünkü p value değeri 0.05 den küçük \n",
    "# değer de 153 çıkmıştı 170 den küçük olduğu kesimünleşti."
   ]
  },
  {
   "cell_type": "markdown",
   "id": "feca98eb",
   "metadata": {},
   "source": [
    "## Nonparametrik tek örneklem testi"
   ]
  },
  {
   "cell_type": "code",
   "execution_count": 18,
   "id": "6cab6f4f",
   "metadata": {},
   "outputs": [],
   "source": [
    "from statsmodels.stats.descriptivestats import sign_test"
   ]
  },
  {
   "cell_type": "code",
   "execution_count": 23,
   "id": "d34d37de",
   "metadata": {},
   "outputs": [
    {
     "data": {
      "text/plain": [
       "(-7.5, 0.04438416098714981)"
      ]
     },
     "execution_count": 23,
     "metadata": {},
     "output_type": "execute_result"
    }
   ],
   "source": [
    "sign_test(olcumler,170)       #test istatisitği ve p-value değerini verir."
   ]
  },
  {
   "cell_type": "code",
   "execution_count": 24,
   "id": "6bc36443",
   "metadata": {},
   "outputs": [],
   "source": [
    "# p-value 0.05 den büyükse h0 reddedilemez.\n",
    "# ama küçükse h0 reddedilir."
   ]
  },
  {
   "cell_type": "markdown",
   "id": "dad6469d",
   "metadata": {},
   "source": [
    "# Tek örneklem oran testi"
   ]
  },
  {
   "cell_type": "code",
   "execution_count": 26,
   "id": "dec2d0c1",
   "metadata": {},
   "outputs": [],
   "source": [
    "#  H0 : p = 0.125\n",
    "#  H1 : p != 0.125 "
   ]
  },
  {
   "cell_type": "code",
   "execution_count": 27,
   "id": "85167ff2",
   "metadata": {},
   "outputs": [],
   "source": [
    "from statsmodels.stats.proportion import proportions_ztest"
   ]
  },
  {
   "cell_type": "code",
   "execution_count": 28,
   "id": "890b3344",
   "metadata": {},
   "outputs": [],
   "source": [
    "count = 40   # başarı sayısı\n",
    "nobs = 500    #gözlem sayısı\n",
    "value = 0.125    # test edilecek değer"
   ]
  },
  {
   "cell_type": "code",
   "execution_count": 30,
   "id": "07226bf6",
   "metadata": {},
   "outputs": [
    {
     "data": {
      "text/plain": [
       "(-3.7090151628513017, 0.0002080669689845979)"
      ]
     },
     "execution_count": 30,
     "metadata": {},
     "output_type": "execute_result"
    }
   ],
   "source": [
    "proportions_ztest(count,nobs,value)"
   ]
  },
  {
   "cell_type": "code",
   "execution_count": 31,
   "id": "92711812",
   "metadata": {},
   "outputs": [],
   "source": [
    "# p-value 0.05 den küçük olduğu için h0 ı reddediyoruz."
   ]
  },
  {
   "cell_type": "markdown",
   "id": "e8e8a877",
   "metadata": {},
   "source": [
    "# Bağımsız iki örneklem t testi "
   ]
  },
  {
   "cell_type": "code",
   "execution_count": 32,
   "id": "abf8588a",
   "metadata": {},
   "outputs": [],
   "source": [
    "# H0 : M1 = M2\n",
    "# H1 : M1 != M2 "
   ]
  },
  {
   "cell_type": "code",
   "execution_count": 33,
   "id": "6c3d66e8",
   "metadata": {},
   "outputs": [],
   "source": [
    "# VERİ TİPİ 1"
   ]
  },
  {
   "cell_type": "code",
   "execution_count": 35,
   "id": "64bbbbb7",
   "metadata": {},
   "outputs": [
    {
     "data": {
      "text/html": [
       "<div>\n",
       "<style scoped>\n",
       "    .dataframe tbody tr th:only-of-type {\n",
       "        vertical-align: middle;\n",
       "    }\n",
       "\n",
       "    .dataframe tbody tr th {\n",
       "        vertical-align: top;\n",
       "    }\n",
       "\n",
       "    .dataframe thead th {\n",
       "        text-align: right;\n",
       "    }\n",
       "</style>\n",
       "<table border=\"1\" class=\"dataframe\">\n",
       "  <thead>\n",
       "    <tr style=\"text-align: right;\">\n",
       "      <th></th>\n",
       "      <th>A</th>\n",
       "      <th>B</th>\n",
       "    </tr>\n",
       "  </thead>\n",
       "  <tbody>\n",
       "    <tr>\n",
       "      <th>0</th>\n",
       "      <td>30.0</td>\n",
       "      <td>37</td>\n",
       "    </tr>\n",
       "    <tr>\n",
       "      <th>1</th>\n",
       "      <td>27.0</td>\n",
       "      <td>39</td>\n",
       "    </tr>\n",
       "    <tr>\n",
       "      <th>2</th>\n",
       "      <td>21.0</td>\n",
       "      <td>31</td>\n",
       "    </tr>\n",
       "    <tr>\n",
       "      <th>3</th>\n",
       "      <td>27.0</td>\n",
       "      <td>31</td>\n",
       "    </tr>\n",
       "    <tr>\n",
       "      <th>4</th>\n",
       "      <td>29.0</td>\n",
       "      <td>34</td>\n",
       "    </tr>\n",
       "  </tbody>\n",
       "</table>\n",
       "</div>"
      ],
      "text/plain": [
       "      A   B\n",
       "0  30.0  37\n",
       "1  27.0  39\n",
       "2  21.0  31\n",
       "3  27.0  31\n",
       "4  29.0  34"
      ]
     },
     "execution_count": 35,
     "metadata": {},
     "output_type": "execute_result"
    }
   ],
   "source": [
    "import pandas as pd\n",
    "A = pd.DataFrame([30,27,21,27,29,30,20,20,27,32,35,22,24,23,25,27,23,27,23,\n",
    "                 25,21,18,24,26,27,28,19,25])\n",
    "B = pd.DataFrame([37,39,31,31,34,38,30,36,29,28,38,28,37,37,30,32,31,31,27,\n",
    "                 32,33,33,33,31,32,33,26,32,33,29])\n",
    "\n",
    "A_B = pd.concat([A,B],axis = 1 )\n",
    "A_B.columns = [\"A\",\"B\"]\n",
    "\n",
    "A_B.head()"
   ]
  },
  {
   "cell_type": "code",
   "execution_count": 37,
   "id": "710b2dfa",
   "metadata": {},
   "outputs": [],
   "source": [
    "# VERİ TİPİ 2"
   ]
  },
  {
   "cell_type": "code",
   "execution_count": 40,
   "id": "20b6c5ea",
   "metadata": {},
   "outputs": [
    {
     "name": "stdout",
     "output_type": "stream",
     "text": [
      "   gelir GRUP\n",
      "0     30    A\n",
      "1     27    A\n",
      "2     21    A\n",
      "3     27    A\n",
      "4     29    A\n",
      "    gelir GRUP\n",
      "25     33    B\n",
      "26     26    B\n",
      "27     32    B\n",
      "28     33    B\n",
      "29     29    B\n"
     ]
    }
   ],
   "source": [
    "import pandas as pd\n",
    "import numpy as np\n",
    "\n",
    "A = pd.DataFrame([30,27,21,27,29,30,20,20,27,32,35,22,24,23,25,27,23,27,23,\n",
    "                 25,21,18,24,26,27,28,19,25])\n",
    "B = pd.DataFrame([37,39,31,31,34,38,30,36,29,28,38,28,37,37,30,32,31,31,27,\n",
    "                 32,33,33,33,31,32,33,26,32,33,29])\n",
    "\n",
    "# A VE A NIN GRUBU \n",
    "GRUP_A = np.arange(len(A))       # A NIN iiçindeki sayı kadar grup a oluşturduk.\n",
    "GRUP_A = pd.DataFrame(GRUP_A)\n",
    "GRUP_A[:] = \"A\"                 # grupun içindeki tüm değerleri a yapacak.\n",
    "A = pd.concat([A, GRUP_A], axis = 1)   # a ve grubu yan yana getirecek. \n",
    "\n",
    "# B VE B NIN GRUBU \n",
    "GRUP_B = np.arange(len(B))\n",
    "GRUP_B = pd.DataFrame(GRUP_B)\n",
    "GRUP_B[:] = \"B\"\n",
    "B = pd.concat([B, GRUP_B], axis = 1)\n",
    "\n",
    "# TÜM VERİ\n",
    "AB = pd.concat([A,B])\n",
    "AB.columns = [\"gelir\",\"GRUP\"] \n",
    "print(AB.head())\n",
    "print(AB.tail())\n"
   ]
  },
  {
   "cell_type": "code",
   "execution_count": 42,
   "id": "ee85a1d2",
   "metadata": {},
   "outputs": [
    {
     "data": {
      "text/plain": [
       "<Axes: xlabel='GRUP', ylabel='gelir'>"
      ]
     },
     "execution_count": 42,
     "metadata": {},
     "output_type": "execute_result"
    },
    {
     "data": {
      "image/png": "[encoded data removed]",
      "text/plain": [
       "<Figure size 640x480 with 1 Axes>"
      ]
     },
     "metadata": {},
     "output_type": "display_data"
    }
   ],
   "source": [
    "import seaborn as sns\n",
    "sns.boxplot(x = \"GRUP\", y = \"gelir\",data = AB )"
   ]
  },
  {
   "cell_type": "markdown",
   "id": "62edf48b",
   "metadata": {},
   "source": [
    "# VARSAYIM KONTROLÜ "
   ]
  },
  {
   "cell_type": "code",
   "execution_count": 70,
   "id": "4bc7ff8e",
   "metadata": {},
   "outputs": [
    {
     "data": {
      "text/html": [
       "<div>\n",
       "<style scoped>\n",
       "    .dataframe tbody tr th:only-of-type {\n",
       "        vertical-align: middle;\n",
       "    }\n",
       "\n",
       "    .dataframe tbody tr th {\n",
       "        vertical-align: top;\n",
       "    }\n",
       "\n",
       "    .dataframe thead th {\n",
       "        text-align: right;\n",
       "    }\n",
       "</style>\n",
       "<table border=\"1\" class=\"dataframe\">\n",
       "  <thead>\n",
       "    <tr style=\"text-align: right;\">\n",
       "      <th></th>\n",
       "      <th>A</th>\n",
       "      <th>B</th>\n",
       "    </tr>\n",
       "  </thead>\n",
       "  <tbody>\n",
       "    <tr>\n",
       "      <th>0</th>\n",
       "      <td>30.0</td>\n",
       "      <td>37</td>\n",
       "    </tr>\n",
       "    <tr>\n",
       "      <th>1</th>\n",
       "      <td>27.0</td>\n",
       "      <td>39</td>\n",
       "    </tr>\n",
       "    <tr>\n",
       "      <th>2</th>\n",
       "      <td>21.0</td>\n",
       "      <td>31</td>\n",
       "    </tr>\n",
       "    <tr>\n",
       "      <th>3</th>\n",
       "      <td>27.0</td>\n",
       "      <td>31</td>\n",
       "    </tr>\n",
       "    <tr>\n",
       "      <th>4</th>\n",
       "      <td>29.0</td>\n",
       "      <td>34</td>\n",
       "    </tr>\n",
       "  </tbody>\n",
       "</table>\n",
       "</div>"
      ],
      "text/plain": [
       "      A   B\n",
       "0  30.0  37\n",
       "1  27.0  39\n",
       "2  21.0  31\n",
       "3  27.0  31\n",
       "4  29.0  34"
      ]
     },
     "execution_count": 70,
     "metadata": {},
     "output_type": "execute_result"
    }
   ],
   "source": [
    "A_B.head()"
   ]
  },
  {
   "cell_type": "code",
   "execution_count": 71,
   "id": "85bcc789",
   "metadata": {},
   "outputs": [
    {
     "data": {
      "text/html": [
       "<div>\n",
       "<style scoped>\n",
       "    .dataframe tbody tr th:only-of-type {\n",
       "        vertical-align: middle;\n",
       "    }\n",
       "\n",
       "    .dataframe tbody tr th {\n",
       "        vertical-align: top;\n",
       "    }\n",
       "\n",
       "    .dataframe thead th {\n",
       "        text-align: right;\n",
       "    }\n",
       "</style>\n",
       "<table border=\"1\" class=\"dataframe\">\n",
       "  <thead>\n",
       "    <tr style=\"text-align: right;\">\n",
       "      <th></th>\n",
       "      <th>gelir</th>\n",
       "      <th>GRUP</th>\n",
       "    </tr>\n",
       "  </thead>\n",
       "  <tbody>\n",
       "    <tr>\n",
       "      <th>0</th>\n",
       "      <td>30</td>\n",
       "      <td>A</td>\n",
       "    </tr>\n",
       "    <tr>\n",
       "      <th>1</th>\n",
       "      <td>27</td>\n",
       "      <td>A</td>\n",
       "    </tr>\n",
       "    <tr>\n",
       "      <th>2</th>\n",
       "      <td>21</td>\n",
       "      <td>A</td>\n",
       "    </tr>\n",
       "    <tr>\n",
       "      <th>3</th>\n",
       "      <td>27</td>\n",
       "      <td>A</td>\n",
       "    </tr>\n",
       "    <tr>\n",
       "      <th>4</th>\n",
       "      <td>29</td>\n",
       "      <td>A</td>\n",
       "    </tr>\n",
       "  </tbody>\n",
       "</table>\n",
       "</div>"
      ],
      "text/plain": [
       "   gelir GRUP\n",
       "0     30    A\n",
       "1     27    A\n",
       "2     21    A\n",
       "3     27    A\n",
       "4     29    A"
      ]
     },
     "execution_count": 71,
     "metadata": {},
     "output_type": "execute_result"
    }
   ],
   "source": [
    "AB.head()"
   ]
  },
  {
   "cell_type": "code",
   "execution_count": 61,
   "id": "b16d178f",
   "metadata": {},
   "outputs": [],
   "source": [
    "# normallik varsayımı : shapiro testini kullanacağız."
   ]
  },
  {
   "cell_type": "code",
   "execution_count": 62,
   "id": "2c9490da",
   "metadata": {},
   "outputs": [],
   "source": [
    "from scipy.stats import shapiro "
   ]
  },
  {
   "cell_type": "code",
   "execution_count": 73,
   "id": "c6a62e47",
   "metadata": {},
   "outputs": [
    {
     "data": {
      "text/plain": [
       "ShapiroResult(statistic=nan, pvalue=1.0)"
      ]
     },
     "execution_count": 73,
     "metadata": {},
     "output_type": "execute_result"
    }
   ],
   "source": [
    "shapiro(A_B.A)       #A_B den a değerini çağırdık.\n",
    "# p-value değeri 0.05 den küçük değil.varsayım sağlanmaktadır."
   ]
  },
  {
   "cell_type": "code",
   "execution_count": 72,
   "id": "21561035",
   "metadata": {},
   "outputs": [
    {
     "data": {
      "text/plain": [
       "ShapiroResult(statistic=0.9561262130737305, pvalue=0.24584470689296722)"
      ]
     },
     "execution_count": 72,
     "metadata": {},
     "output_type": "execute_result"
    }
   ],
   "source": [
    "shapiro(A_B.B)      \n",
    "# YİNE REDDEDİLEMEZ VARSAYIM SAĞLANIR.0,05 DEN KÜÇÜK DEĞİL."
   ]
  },
  {
   "cell_type": "markdown",
   "id": "b0bfd2c6",
   "metadata": {},
   "source": [
    "### VARYANS HOMOJENLİĞİ VARSAYIMI"
   ]
  },
  {
   "cell_type": "code",
   "execution_count": 65,
   "id": "bef33ec6",
   "metadata": {},
   "outputs": [],
   "source": [
    "# H0 : VARYANSLAR HOMOJENDİR.\n",
    "# H1 : VARYANSLAR HOMOJEN DEĞİLDİR."
   ]
  },
  {
   "cell_type": "code",
   "execution_count": 76,
   "id": "8b933764",
   "metadata": {},
   "outputs": [
    {
     "data": {
      "text/plain": [
       "LeveneResult(statistic=nan, pvalue=nan)"
      ]
     },
     "execution_count": 76,
     "metadata": {},
     "output_type": "execute_result"
    }
   ],
   "source": [
    "stats.levene(A_B.A , A_B.B) \n",
    "# test istatistiği ve p value değeri geldi pvalue:0,2... gelmiş \n",
    "# 0,05 den küçük olmaadığı için h0 reddedilemez."
   ]
  },
  {
   "cell_type": "code",
   "execution_count": null,
   "id": "d4b382b8",
   "metadata": {},
   "outputs": [],
   "source": []
  },
  {
   "cell_type": "markdown",
   "id": "26c1f619",
   "metadata": {},
   "source": [
    "# HİPOTEZ TESTİ "
   ]
  },
  {
   "cell_type": "code",
   "execution_count": 79,
   "id": "52e34733",
   "metadata": {},
   "outputs": [
    {
     "data": {
      "text/plain": [
       "TtestResult(statistic=nan, pvalue=nan, df=nan)"
      ]
     },
     "execution_count": 79,
     "metadata": {},
     "output_type": "execute_result"
    }
   ],
   "source": [
    "stats.ttest_ind(A_B[\"A\"], A_B[\"B\"], equal_var = True)"
   ]
  },
  {
   "cell_type": "code",
   "execution_count": 84,
   "id": "31170390",
   "metadata": {},
   "outputs": [
    {
     "name": "stdout",
     "output_type": "stream",
     "text": [
      "test istatistiği = nan , p-değeri = nan\n"
     ]
    }
   ],
   "source": [
    "test_istatistigi , pvalue = stats.ttest_ind(A_B[\"A\"], A_B[\"B\"], equal_var = True)\n",
    "print('test istatistiği = %.4f , p-değeri = %.4f' % (test_istatistigi,pvalue))\n",
    "\n",
    "# \n"
   ]
  },
  {
   "cell_type": "markdown",
   "id": "8e77b147",
   "metadata": {},
   "source": [
    "# NONPARAMETRİK BAĞIMSIZ İKİ ÖRNEKLEM TESTİ"
   ]
  },
  {
   "cell_type": "code",
   "execution_count": 86,
   "id": "944d4567",
   "metadata": {},
   "outputs": [
    {
     "data": {
      "text/plain": [
       "MannwhitneyuResult(statistic=nan, pvalue=nan)"
      ]
     },
     "execution_count": 86,
     "metadata": {},
     "output_type": "execute_result"
    }
   ],
   "source": [
    "stats.mannwhitneyu(A_B[\"A\"],A_B[\"B\"])"
   ]
  },
  {
   "cell_type": "markdown",
   "id": "f3f51ab4",
   "metadata": {},
   "source": [
    "# BAĞIMLI İKİ ÖRNEKLEM TESTİ \n",
    "# İŞ UYGULAMASI : ŞİRKET İÇİ PERFORMANS"
   ]
  },
  {
   "cell_type": "code",
   "execution_count": 6,
   "id": "3b6f9948",
   "metadata": {},
   "outputs": [],
   "source": [
    "import pandas as pd \n",
    "import numpy as np\n",
    "oncesi = pd.DataFrame([123,119,119,116,123,123,121,120,117,118,121,121,123,119,\n",
    "                      121,118,124,121,125,115,115,119,118,121,117,117,120,120,\n",
    "                      121,117,118,117,123,118,124,121,115,118,125,115])\n",
    "\n",
    "sonrasi = pd.DataFrame([118,127,122,132,129,123,129,132,128,130,128,138,140,130,\n",
    "                      134,134,124,140,134,129,129,138,134,124,122,126,133,127,\n",
    "                      130,130,130,132,117,130,125,129,133,120,127,123])"
   ]
  },
  {
   "cell_type": "code",
   "execution_count": 7,
   "id": "117a146a",
   "metadata": {},
   "outputs": [
    {
     "data": {
      "text/html": [
       "<div>\n",
       "<style scoped>\n",
       "    .dataframe tbody tr th:only-of-type {\n",
       "        vertical-align: middle;\n",
       "    }\n",
       "\n",
       "    .dataframe tbody tr th {\n",
       "        vertical-align: top;\n",
       "    }\n",
       "\n",
       "    .dataframe thead th {\n",
       "        text-align: right;\n",
       "    }\n",
       "</style>\n",
       "<table border=\"1\" class=\"dataframe\">\n",
       "  <thead>\n",
       "    <tr style=\"text-align: right;\">\n",
       "      <th></th>\n",
       "      <th>0</th>\n",
       "    </tr>\n",
       "  </thead>\n",
       "  <tbody>\n",
       "    <tr>\n",
       "      <th>0</th>\n",
       "      <td>123</td>\n",
       "    </tr>\n",
       "    <tr>\n",
       "      <th>1</th>\n",
       "      <td>119</td>\n",
       "    </tr>\n",
       "    <tr>\n",
       "      <th>2</th>\n",
       "      <td>119</td>\n",
       "    </tr>\n",
       "    <tr>\n",
       "      <th>3</th>\n",
       "      <td>116</td>\n",
       "    </tr>\n",
       "    <tr>\n",
       "      <th>4</th>\n",
       "      <td>123</td>\n",
       "    </tr>\n",
       "  </tbody>\n",
       "</table>\n",
       "</div>"
      ],
      "text/plain": [
       "     0\n",
       "0  123\n",
       "1  119\n",
       "2  119\n",
       "3  116\n",
       "4  123"
      ]
     },
     "execution_count": 7,
     "metadata": {},
     "output_type": "execute_result"
    }
   ],
   "source": [
    "oncesi[0:5]"
   ]
  },
  {
   "cell_type": "code",
   "execution_count": 8,
   "id": "48d283e8",
   "metadata": {},
   "outputs": [
    {
     "data": {
      "text/html": [
       "<div>\n",
       "<style scoped>\n",
       "    .dataframe tbody tr th:only-of-type {\n",
       "        vertical-align: middle;\n",
       "    }\n",
       "\n",
       "    .dataframe tbody tr th {\n",
       "        vertical-align: top;\n",
       "    }\n",
       "\n",
       "    .dataframe thead th {\n",
       "        text-align: right;\n",
       "    }\n",
       "</style>\n",
       "<table border=\"1\" class=\"dataframe\">\n",
       "  <thead>\n",
       "    <tr style=\"text-align: right;\">\n",
       "      <th></th>\n",
       "      <th>0</th>\n",
       "    </tr>\n",
       "  </thead>\n",
       "  <tbody>\n",
       "    <tr>\n",
       "      <th>0</th>\n",
       "      <td>118</td>\n",
       "    </tr>\n",
       "    <tr>\n",
       "      <th>1</th>\n",
       "      <td>127</td>\n",
       "    </tr>\n",
       "    <tr>\n",
       "      <th>2</th>\n",
       "      <td>122</td>\n",
       "    </tr>\n",
       "    <tr>\n",
       "      <th>3</th>\n",
       "      <td>132</td>\n",
       "    </tr>\n",
       "    <tr>\n",
       "      <th>4</th>\n",
       "      <td>129</td>\n",
       "    </tr>\n",
       "  </tbody>\n",
       "</table>\n",
       "</div>"
      ],
      "text/plain": [
       "     0\n",
       "0  118\n",
       "1  127\n",
       "2  122\n",
       "3  132\n",
       "4  129"
      ]
     },
     "execution_count": 8,
     "metadata": {},
     "output_type": "execute_result"
    }
   ],
   "source": [
    "sonrasi[0:5]"
   ]
  },
  {
   "cell_type": "code",
   "execution_count": 9,
   "id": "f897997c",
   "metadata": {
    "scrolled": true
   },
   "outputs": [
    {
     "name": "stdout",
     "output_type": "stream",
     "text": [
      "'AYRIK' VERİ SETİ : \n",
      "\n",
      "     ONCESI  SONRASI\n",
      "0     123      118\n",
      "1     119      127\n",
      "2     119      122\n",
      "3     116      132\n",
      "4     123      129 \n",
      "\n",
      "\n",
      "'BIRLIKTE' VERİ SETİ : \n",
      "\n",
      "     PERFORMANS ONCESI_SONRASI\n",
      "0         123         ONCESI\n",
      "1         119         ONCESI\n",
      "2         119         ONCESI\n",
      "3         116         ONCESI\n",
      "4         123         ONCESI \n",
      "\n"
     ]
    }
   ],
   "source": [
    "# BİRİNCİ VERİ SETİ \n",
    "AYRIK = pd.concat([oncesi,sonrasi],axis = 1)\n",
    "AYRIK.columns = [\"ONCESI\", \"SONRASI\"]             #sütun isimlendirme\n",
    "print(\"'AYRIK' VERİ SETİ : \\n\\n \", AYRIK.head(), \"\\n\\n\")\n",
    "\n",
    "# IKINCİ VERİ SETİ \n",
    "# ONCESI FLAG/TAG INI OLUŞTURMA\n",
    "GRUP_ONCESI = np.arange(len(oncesi))   # rastgele sayılar oluşrutulmuş\n",
    "GRUP_ONCESI = pd.DataFrame(GRUP_ONCESI) # bu sayılar kümesi dataframe e dönüştürülmüş\n",
    "GRUP_ONCESI[:] = \"ONCESI\"               # tüm değerler yerine oncesı yazılacak\n",
    "# FLAG VE ONCESİ DEĞERLERİŞNİ BİR ARAYA GETİRME\n",
    "A = pd.concat([oncesi,GRUP_ONCESI],axis = 1) \n",
    "#sonrası flag/tag ını oluşturma \n",
    "GRUP_SONRASI = np.arange(len(sonrasi))\n",
    "GRUP_SONRASI = pd.DataFrame(GRUP_SONRASI)\n",
    "GRUP_SONRASI[:] = \"SONRASI\"\n",
    "\n",
    "# FLAG VE SONRASI DEĞERLERİNİ BİR ARAYA GETİRME\n",
    "B = pd.concat([sonrasi,GRUP_SONRASI],axis = 1)\n",
    "\n",
    "# TÜM VERİYİ BİR ARAYA GETİRME\n",
    "BIRLIKTE = pd.concat([A,B])\n",
    "BIRLIKTE\n",
    "\n",
    "# ISIMLENDİRME\n",
    "BIRLIKTE.columns = [\"PERFORMANS\",\"ONCESI_SONRASI\"]\n",
    "print(\"'BIRLIKTE' VERİ SETİ : \\n\\n \", BIRLIKTE.head(), \"\\n\")"
   ]
  },
  {
   "cell_type": "code",
   "execution_count": 13,
   "id": "9bd1dc27",
   "metadata": {},
   "outputs": [
    {
     "data": {
      "text/plain": [
       "<Axes: xlabel='ONCESI_SONRASI', ylabel='PERFORMANS'>"
      ]
     },
     "execution_count": 13,
     "metadata": {},
     "output_type": "execute_result"
    },
    {
     "data": {
      "image/png": "[encoded data removed]",
      "text/plain": [
       "<Figure size 640x480 with 1 Axes>"
      ]
     },
     "metadata": {},
     "output_type": "display_data"
    }
   ],
   "source": [
    "import seaborn as sns\n",
    "sns.boxplot(x = \"ONCESI_SONRASI\", y = \"PERFORMANS\", data = BIRLIKTE ) "
   ]
  },
  {
   "cell_type": "markdown",
   "id": "f6978b06",
   "metadata": {},
   "source": [
    "## VARSAYIM KONTROLLERİ "
   ]
  },
  {
   "cell_type": "code",
   "execution_count": 14,
   "id": "d9503c06",
   "metadata": {},
   "outputs": [],
   "source": [
    "from scipy.stats import shapiro"
   ]
  },
  {
   "cell_type": "code",
   "execution_count": 18,
   "id": "f34098ac",
   "metadata": {},
   "outputs": [
    {
     "data": {
      "text/plain": [
       "ShapiroResult(statistic=0.9543651342391968, pvalue=0.10722016543149948)"
      ]
     },
     "execution_count": 18,
     "metadata": {},
     "output_type": "execute_result"
    }
   ],
   "source": [
    "shapiro(AYRIK.ONCESI)      \n",
    "# P-VALUE 0,05 den küçük değil HO REDDEDEMEYİZ NORMAL DAĞILIM "
   ]
  },
  {
   "cell_type": "code",
   "execution_count": 20,
   "id": "b963982f",
   "metadata": {},
   "outputs": [
    {
     "data": {
      "text/plain": [
       "ShapiroResult(statistic=0.9780092239379883, pvalue=0.6159630417823792)"
      ]
     },
     "execution_count": 20,
     "metadata": {},
     "output_type": "execute_result"
    }
   ],
   "source": [
    "shapiro(AYRIK.SONRASI)  \n",
    "# P VALUE 0,05 den küçük değil ho reddedemeyiz .normal dağılım ile teorik dağılım arasında fark yoktur demektir.\n",
    "# YANİ NORMAL DAĞILIMDIR."
   ]
  },
  {
   "cell_type": "code",
   "execution_count": 22,
   "id": "97548ac8",
   "metadata": {},
   "outputs": [
    {
     "data": {
      "text/plain": [
       "LeveneResult(statistic=8.31303288672351, pvalue=0.0050844511807370246)"
      ]
     },
     "execution_count": 22,
     "metadata": {},
     "output_type": "execute_result"
    }
   ],
   "source": [
    "import scipy.stats as stats\n",
    "stats.levene(AYRIK.ONCESI,AYRIK.SONRASI) \n",
    "# levene fonks.varyans homojenliği\n",
    "# 0,05 den küçük ho red edilir.varyansların homojenliği varyansı sağlanmamakatadır."
   ]
  },
  {
   "cell_type": "code",
   "execution_count": null,
   "id": "14c81662",
   "metadata": {},
   "outputs": [],
   "source": [
    "#aykırılıklar düzenlenip tekrar bakılabilir veya gözardı edebiliriz."
   ]
  },
  {
   "cell_type": "markdown",
   "id": "faf2e9f9",
   "metadata": {},
   "source": [
    "# HİPOTEZ TESTİ "
   ]
  },
  {
   "cell_type": "code",
   "execution_count": 24,
   "id": "32f36b31",
   "metadata": {},
   "outputs": [
    {
     "data": {
      "text/plain": [
       "TtestResult(statistic=-9.281533480429937, pvalue=2.0235251764440722e-11, df=39)"
      ]
     },
     "execution_count": 24,
     "metadata": {},
     "output_type": "execute_result"
    }
   ],
   "source": [
    "stats.ttest_rel(AYRIK.ONCESI,AYRIK.SONRASI)"
   ]
  },
  {
   "cell_type": "code",
   "execution_count": 26,
   "id": "847c11d3",
   "metadata": {},
   "outputs": [
    {
     "name": "stdout",
     "output_type": "stream",
     "text": [
      "TEST İSTATİSTİGİ = -9.2815,p-değeri = 0.0000\n"
     ]
    }
   ],
   "source": [
    "test_istatistigi, pvalue = stats.ttest_rel(AYRIK.ONCESI,AYRIK.SONRASI)\n",
    "print('TEST İSTATİSTİGİ = %.4f,p-değeri = %.4f' % (test_istatistigi,pvalue))\n",
    "# 4f virgülden sonra dört basamak göster demektir.\n",
    "# 0,05 den küçük ho reddedilir yani eğitim işe yaramıştır müilk müsondan farklıdır."
   ]
  },
  {
   "cell_type": "markdown",
   "id": "1b415d8b",
   "metadata": {},
   "source": [
    "### nonparametrik bağımlı iki örneklem testi "
   ]
  },
  {
   "cell_type": "code",
   "execution_count": 28,
   "id": "71d7dcb2",
   "metadata": {},
   "outputs": [
    {
     "name": "stderr",
     "output_type": "stream",
     "text": [
      "C:\\Users\\MSI\\anaconda3\\Lib\\site-packages\\scipy\\stats\\_morestats.py:4088: UserWarning: Exact p-value calculation does not work if there are zeros. Switching to normal approximation.\n",
      "  warnings.warn(\"Exact p-value calculation does not work if there are \"\n"
     ]
    },
    {
     "data": {
      "text/plain": [
       "WilcoxonResult(statistic=15.0, pvalue=2.491492033374464e-07)"
      ]
     },
     "execution_count": 28,
     "metadata": {},
     "output_type": "execute_result"
    }
   ],
   "source": [
    "stats.wilcoxon(AYRIK.ONCESI,AYRIK.SONRASI)"
   ]
  },
  {
   "cell_type": "markdown",
   "id": "e4eedc5a",
   "metadata": {},
   "source": [
    "# İŞ UYGULAMASI : KULLANICI ARAYÜZÜ DENEYİ (AB TESTİ)\n",
    "### İKİ ÖRNEKLEM ORAN TESTİ "
   ]
  },
  {
   "cell_type": "code",
   "execution_count": 29,
   "id": "841a20dd",
   "metadata": {},
   "outputs": [],
   "source": [
    "from statsmodels.stats.proportion import proportions_ztest"
   ]
  },
  {
   "cell_type": "code",
   "execution_count": 31,
   "id": "15a41560",
   "metadata": {},
   "outputs": [],
   "source": [
    "import numpy as np\n",
    "basari_sayisi = np.array([300,250])\n",
    "gozlem_sayilari = np.array([1000,1100])"
   ]
  },
  {
   "cell_type": "code",
   "execution_count": 33,
   "id": "c9533793",
   "metadata": {},
   "outputs": [
    {
     "data": {
      "text/plain": [
       "(3.7857863233209255, 0.0001532232957772221)"
      ]
     },
     "execution_count": 33,
     "metadata": {},
     "output_type": "execute_result"
    }
   ],
   "source": [
    "proportions_ztest(count = basari_sayisi,nobs = gozlem_sayilari)\n",
    "# 0,05 den oldukça küçük ho reddedilir.\n",
    "# buton renkleri kullanıcı hareketlerinde farklılık oluşturmuştur bu farklılık\n",
    "# yeşil butonun lehinedir.yeşili seçeriz."
   ]
  },
  {
   "cell_type": "markdown",
   "id": "1940576f",
   "metadata": {},
   "source": [
    "## VARYANS ANALİZİ "
   ]
  },
  {
   "cell_type": "code",
   "execution_count": 34,
   "id": "8e7f3c07",
   "metadata": {},
   "outputs": [],
   "source": [
    "# H0 : M1 = M2 = M3 (grup ortalamaları arasında ist. anl. farklılık yoktur.)\n",
    "# H1 : fark vardır."
   ]
  },
  {
   "cell_type": "code",
   "execution_count": 36,
   "id": "7a904f34",
   "metadata": {},
   "outputs": [
    {
     "data": {
      "text/html": [
       "<div>\n",
       "<style scoped>\n",
       "    .dataframe tbody tr th:only-of-type {\n",
       "        vertical-align: middle;\n",
       "    }\n",
       "\n",
       "    .dataframe tbody tr th {\n",
       "        vertical-align: top;\n",
       "    }\n",
       "\n",
       "    .dataframe thead th {\n",
       "        text-align: right;\n",
       "    }\n",
       "</style>\n",
       "<table border=\"1\" class=\"dataframe\">\n",
       "  <thead>\n",
       "    <tr style=\"text-align: right;\">\n",
       "      <th></th>\n",
       "      <th>GRUP_A</th>\n",
       "      <th>GRUP_B</th>\n",
       "      <th>GRUP_C</th>\n",
       "    </tr>\n",
       "  </thead>\n",
       "  <tbody>\n",
       "    <tr>\n",
       "      <th>0</th>\n",
       "      <td>28</td>\n",
       "      <td>31</td>\n",
       "      <td>40</td>\n",
       "    </tr>\n",
       "    <tr>\n",
       "      <th>1</th>\n",
       "      <td>33</td>\n",
       "      <td>32</td>\n",
       "      <td>33</td>\n",
       "    </tr>\n",
       "    <tr>\n",
       "      <th>2</th>\n",
       "      <td>30</td>\n",
       "      <td>30</td>\n",
       "      <td>38</td>\n",
       "    </tr>\n",
       "    <tr>\n",
       "      <th>3</th>\n",
       "      <td>29</td>\n",
       "      <td>30</td>\n",
       "      <td>41</td>\n",
       "    </tr>\n",
       "    <tr>\n",
       "      <th>4</th>\n",
       "      <td>28</td>\n",
       "      <td>33</td>\n",
       "      <td>42</td>\n",
       "    </tr>\n",
       "  </tbody>\n",
       "</table>\n",
       "</div>"
      ],
      "text/plain": [
       "   GRUP_A  GRUP_B  GRUP_C\n",
       "0      28      31      40\n",
       "1      33      32      33\n",
       "2      30      30      38\n",
       "3      29      30      41\n",
       "4      28      33      42"
      ]
     },
     "execution_count": 36,
     "metadata": {},
     "output_type": "execute_result"
    }
   ],
   "source": [
    "A = pd.DataFrame([28,33,30,29,28,29,27,31,30,32,28,33,25,29,27,31,31,30,31,34,30,32,31])\n",
    "\n",
    "B = pd.DataFrame([31,32,30,30,33,32,34,27,36,30,31,30,38,29,30,34,34,31,35,35,33,30,28])\n",
    "\n",
    "C = pd.DataFrame([40,33,38,41,42,43,38,35,39,39,36,34,35,40,38,36,39,36,33,35,38,35,40])\n",
    "\n",
    "dfs = [A,B,C]\n",
    "\n",
    "ABC = pd.concat(dfs, axis =1)\n",
    "ABC.columns = [\"GRUP_A\",\"GRUP_B\",\"GRUP_C\"]\n",
    "ABC.head()"
   ]
  },
  {
   "cell_type": "code",
   "execution_count": 37,
   "id": "bc9a0a6d",
   "metadata": {},
   "outputs": [],
   "source": [
    " # 1 normallik varsayımı\n",
    " from scipy.stats import shapiro   "
   ]
  },
  {
   "cell_type": "code",
   "execution_count": 38,
   "id": "aeb89548",
   "metadata": {},
   "outputs": [
    {
     "data": {
      "text/plain": [
       "ShapiroResult(statistic=0.9771647453308105, pvalue=0.8526690006256104)"
      ]
     },
     "execution_count": 38,
     "metadata": {},
     "output_type": "execute_result"
    }
   ],
   "source": [
    "shapiro(ABC[\"GRUP_A\"])"
   ]
  },
  {
   "cell_type": "code",
   "execution_count": 42,
   "id": "6e8441a6",
   "metadata": {},
   "outputs": [
    {
     "data": {
      "text/plain": [
       "ShapiroResult(statistic=0.9653159379959106, pvalue=0.5784821510314941)"
      ]
     },
     "execution_count": 42,
     "metadata": {},
     "output_type": "execute_result"
    }
   ],
   "source": [
    "shapiro(ABC[\"GRUP_B\"])"
   ]
  },
  {
   "cell_type": "code",
   "execution_count": 41,
   "id": "2f9e80a7",
   "metadata": {},
   "outputs": [
    {
     "data": {
      "text/plain": [
       "ShapiroResult(statistic=0.9604302644729614, pvalue=0.4721103310585022)"
      ]
     },
     "execution_count": 41,
     "metadata": {},
     "output_type": "execute_result"
    }
   ],
   "source": [
    "shapiro(ABC[\"GRUP_C\"])"
   ]
  },
  {
   "cell_type": "code",
   "execution_count": 43,
   "id": "42c44649",
   "metadata": {},
   "outputs": [],
   "source": [
    "# ÜÇÜDE 0,05 DEN KÜÇÜK DEĞİL HO REDDEDİLMEZ NORMALDİR ÜÇÜDE."
   ]
  },
  {
   "cell_type": "code",
   "execution_count": 48,
   "id": "0f40a4be",
   "metadata": {},
   "outputs": [
    {
     "data": {
      "text/plain": [
       "LeveneResult(statistic=0.9446786090621706, pvalue=0.3939978753114075)"
      ]
     },
     "execution_count": 48,
     "metadata": {},
     "output_type": "execute_result"
    }
   ],
   "source": [
    "# 2. LEVENE TESTİ:HOMOJENLİK TESTİ \n",
    "stats.levene(ABC[\"GRUP_A\"],ABC[\"GRUP_B\"],ABC[\"GRUP_C\"])\n",
    "# HO REDDEDİLEMEZ : VARYANLSLAR HOMOJENDİR."
   ]
  },
  {
   "cell_type": "markdown",
   "id": "8ff5f44f",
   "metadata": {},
   "source": [
    "### HİPOTEZ TESTİ "
   ]
  },
  {
   "cell_type": "code",
   "execution_count": 51,
   "id": "bf390bb8",
   "metadata": {},
   "outputs": [],
   "source": [
    "from scipy.stats import f_oneway"
   ]
  },
  {
   "cell_type": "code",
   "execution_count": 53,
   "id": "fcc0de39",
   "metadata": {},
   "outputs": [
    {
     "data": {
      "text/plain": [
       "F_onewayResult(statistic=53.46714172604916, pvalue=1.566295188711795e-14)"
      ]
     },
     "execution_count": 53,
     "metadata": {},
     "output_type": "execute_result"
    }
   ],
   "source": [
    "f_oneway(ABC[\"GRUP_A\"],ABC[\"GRUP_B\"],ABC[\"GRUP_C\"])\n",
    "# 0,05 DEN KÜÇÜK HO REDDEDİLİR .İSTATİSTİK OLARAK ANLAMLI BİR FARKLILIK VARDIR DERİZ."
   ]
  },
  {
   "cell_type": "code",
   "execution_count": 55,
   "id": "160aa5f9",
   "metadata": {},
   "outputs": [
    {
     "data": {
      "text/html": [
       "<div>\n",
       "<style scoped>\n",
       "    .dataframe tbody tr th:only-of-type {\n",
       "        vertical-align: middle;\n",
       "    }\n",
       "\n",
       "    .dataframe tbody tr th {\n",
       "        vertical-align: top;\n",
       "    }\n",
       "\n",
       "    .dataframe thead th {\n",
       "        text-align: right;\n",
       "    }\n",
       "</style>\n",
       "<table border=\"1\" class=\"dataframe\">\n",
       "  <thead>\n",
       "    <tr style=\"text-align: right;\">\n",
       "      <th></th>\n",
       "      <th>count</th>\n",
       "      <th>mean</th>\n",
       "      <th>std</th>\n",
       "      <th>min</th>\n",
       "      <th>25%</th>\n",
       "      <th>50%</th>\n",
       "      <th>75%</th>\n",
       "      <th>max</th>\n",
       "    </tr>\n",
       "  </thead>\n",
       "  <tbody>\n",
       "    <tr>\n",
       "      <th>GRUP_A</th>\n",
       "      <td>23.0</td>\n",
       "      <td>29.956522</td>\n",
       "      <td>2.184205</td>\n",
       "      <td>25.0</td>\n",
       "      <td>28.5</td>\n",
       "      <td>30.0</td>\n",
       "      <td>31.0</td>\n",
       "      <td>34.0</td>\n",
       "    </tr>\n",
       "    <tr>\n",
       "      <th>GRUP_B</th>\n",
       "      <td>23.0</td>\n",
       "      <td>31.869565</td>\n",
       "      <td>2.701924</td>\n",
       "      <td>27.0</td>\n",
       "      <td>30.0</td>\n",
       "      <td>31.0</td>\n",
       "      <td>34.0</td>\n",
       "      <td>38.0</td>\n",
       "    </tr>\n",
       "    <tr>\n",
       "      <th>GRUP_C</th>\n",
       "      <td>23.0</td>\n",
       "      <td>37.521739</td>\n",
       "      <td>2.810202</td>\n",
       "      <td>33.0</td>\n",
       "      <td>35.0</td>\n",
       "      <td>38.0</td>\n",
       "      <td>39.5</td>\n",
       "      <td>43.0</td>\n",
       "    </tr>\n",
       "  </tbody>\n",
       "</table>\n",
       "</div>"
      ],
      "text/plain": [
       "        count       mean       std   min   25%   50%   75%   max\n",
       "GRUP_A   23.0  29.956522  2.184205  25.0  28.5  30.0  31.0  34.0\n",
       "GRUP_B   23.0  31.869565  2.701924  27.0  30.0  31.0  34.0  38.0\n",
       "GRUP_C   23.0  37.521739  2.810202  33.0  35.0  38.0  39.5  43.0"
      ]
     },
     "execution_count": 55,
     "metadata": {},
     "output_type": "execute_result"
    }
   ],
   "source": [
    "ABC.describe().T\n",
    "# c daha anlamlı"
   ]
  },
  {
   "cell_type": "markdown",
   "id": "5af4b2b5",
   "metadata": {},
   "source": [
    "### Nonparametrik hipotez testi"
   ]
  },
  {
   "cell_type": "code",
   "execution_count": 56,
   "id": "d2cdf86d",
   "metadata": {},
   "outputs": [],
   "source": [
    "from scipy.stats import kruskal"
   ]
  },
  {
   "cell_type": "code",
   "execution_count": 60,
   "id": "e9cae240",
   "metadata": {},
   "outputs": [
    {
     "data": {
      "text/plain": [
       "KruskalResult(statistic=41.41835051661897, pvalue=1.014190318754816e-09)"
      ]
     },
     "execution_count": 60,
     "metadata": {},
     "output_type": "execute_result"
    }
   ],
   "source": [
    "kruskal(ABC[\"GRUP_A\"],ABC[\"GRUP_B\"],ABC[\"GRUP_C\"])\n",
    "# 0,05 den küçük ho reddeilir.h1 kabul edilir.\n",
    "# istatistik olarak anlamlı bir fark vardır."
   ]
  },
  {
   "cell_type": "markdown",
   "id": "7d6cd578",
   "metadata": {},
   "source": [
    "# KORELASYON ANALİZİ \n"
   ]
  },
  {
   "cell_type": "markdown",
   "id": "cf73d205",
   "metadata": {},
   "source": [
    "* BAHŞİŞ VERİ SETİ :\n",
    "* total_bill : yemeğin toplam fiyatı(bahşiş ve vergi dahil)\n",
    "* tip : bahşiş\n",
    "* sex : ödeyenin cinsiyeti (0:male 1:female )\n",
    "* smoker : grupta sigara içen var mı? (0:no 1:yes)\n",
    "* day : gün (3:thur,4:fri 5:sat 6 :sun)\n",
    "* time : ne zaman ? (0:day 1:night)\n",
    "* size: grupta kaç kişi var?"
   ]
  },
  {
   "cell_type": "code",
   "execution_count": 63,
   "id": "1938452d",
   "metadata": {},
   "outputs": [
    {
     "data": {
      "text/html": [
       "<div>\n",
       "<style scoped>\n",
       "    .dataframe tbody tr th:only-of-type {\n",
       "        vertical-align: middle;\n",
       "    }\n",
       "\n",
       "    .dataframe tbody tr th {\n",
       "        vertical-align: top;\n",
       "    }\n",
       "\n",
       "    .dataframe thead th {\n",
       "        text-align: right;\n",
       "    }\n",
       "</style>\n",
       "<table border=\"1\" class=\"dataframe\">\n",
       "  <thead>\n",
       "    <tr style=\"text-align: right;\">\n",
       "      <th></th>\n",
       "      <th>total_bill</th>\n",
       "      <th>tip</th>\n",
       "      <th>sex</th>\n",
       "      <th>smoker</th>\n",
       "      <th>day</th>\n",
       "      <th>time</th>\n",
       "      <th>size</th>\n",
       "    </tr>\n",
       "  </thead>\n",
       "  <tbody>\n",
       "    <tr>\n",
       "      <th>0</th>\n",
       "      <td>16.99</td>\n",
       "      <td>1.01</td>\n",
       "      <td>Female</td>\n",
       "      <td>No</td>\n",
       "      <td>Sun</td>\n",
       "      <td>Dinner</td>\n",
       "      <td>2</td>\n",
       "    </tr>\n",
       "    <tr>\n",
       "      <th>1</th>\n",
       "      <td>10.34</td>\n",
       "      <td>1.66</td>\n",
       "      <td>Male</td>\n",
       "      <td>No</td>\n",
       "      <td>Sun</td>\n",
       "      <td>Dinner</td>\n",
       "      <td>3</td>\n",
       "    </tr>\n",
       "    <tr>\n",
       "      <th>2</th>\n",
       "      <td>21.01</td>\n",
       "      <td>3.50</td>\n",
       "      <td>Male</td>\n",
       "      <td>No</td>\n",
       "      <td>Sun</td>\n",
       "      <td>Dinner</td>\n",
       "      <td>3</td>\n",
       "    </tr>\n",
       "    <tr>\n",
       "      <th>3</th>\n",
       "      <td>23.68</td>\n",
       "      <td>3.31</td>\n",
       "      <td>Male</td>\n",
       "      <td>No</td>\n",
       "      <td>Sun</td>\n",
       "      <td>Dinner</td>\n",
       "      <td>2</td>\n",
       "    </tr>\n",
       "    <tr>\n",
       "      <th>4</th>\n",
       "      <td>24.59</td>\n",
       "      <td>3.61</td>\n",
       "      <td>Female</td>\n",
       "      <td>No</td>\n",
       "      <td>Sun</td>\n",
       "      <td>Dinner</td>\n",
       "      <td>4</td>\n",
       "    </tr>\n",
       "  </tbody>\n",
       "</table>\n",
       "</div>"
      ],
      "text/plain": [
       "   total_bill   tip     sex smoker  day    time  size\n",
       "0       16.99  1.01  Female     No  Sun  Dinner     2\n",
       "1       10.34  1.66    Male     No  Sun  Dinner     3\n",
       "2       21.01  3.50    Male     No  Sun  Dinner     3\n",
       "3       23.68  3.31    Male     No  Sun  Dinner     2\n",
       "4       24.59  3.61  Female     No  Sun  Dinner     4"
      ]
     },
     "execution_count": 63,
     "metadata": {},
     "output_type": "execute_result"
    }
   ],
   "source": [
    "import seaborn as sns\n",
    "tips = sns.load_dataset('tips')\n",
    "df = tips.copy()\n",
    "df.head()"
   ]
  },
  {
   "cell_type": "code",
   "execution_count": 67,
   "id": "51f2e8f8",
   "metadata": {},
   "outputs": [],
   "source": [
    "df[\"total_bill\"] = df[\"total_bill\"] - df[\"tip\"] \n",
    "# hesap kısmı bahşişlerle birlikte bahşişleri çıkardık."
   ]
  },
  {
   "cell_type": "code",
   "execution_count": 68,
   "id": "695d4136",
   "metadata": {},
   "outputs": [
    {
     "data": {
      "text/html": [
       "<div>\n",
       "<style scoped>\n",
       "    .dataframe tbody tr th:only-of-type {\n",
       "        vertical-align: middle;\n",
       "    }\n",
       "\n",
       "    .dataframe tbody tr th {\n",
       "        vertical-align: top;\n",
       "    }\n",
       "\n",
       "    .dataframe thead th {\n",
       "        text-align: right;\n",
       "    }\n",
       "</style>\n",
       "<table border=\"1\" class=\"dataframe\">\n",
       "  <thead>\n",
       "    <tr style=\"text-align: right;\">\n",
       "      <th></th>\n",
       "      <th>total_bill</th>\n",
       "      <th>tip</th>\n",
       "      <th>sex</th>\n",
       "      <th>smoker</th>\n",
       "      <th>day</th>\n",
       "      <th>time</th>\n",
       "      <th>size</th>\n",
       "    </tr>\n",
       "  </thead>\n",
       "  <tbody>\n",
       "    <tr>\n",
       "      <th>0</th>\n",
       "      <td>14.97</td>\n",
       "      <td>1.01</td>\n",
       "      <td>Female</td>\n",
       "      <td>No</td>\n",
       "      <td>Sun</td>\n",
       "      <td>Dinner</td>\n",
       "      <td>2</td>\n",
       "    </tr>\n",
       "    <tr>\n",
       "      <th>1</th>\n",
       "      <td>7.02</td>\n",
       "      <td>1.66</td>\n",
       "      <td>Male</td>\n",
       "      <td>No</td>\n",
       "      <td>Sun</td>\n",
       "      <td>Dinner</td>\n",
       "      <td>3</td>\n",
       "    </tr>\n",
       "    <tr>\n",
       "      <th>2</th>\n",
       "      <td>14.01</td>\n",
       "      <td>3.50</td>\n",
       "      <td>Male</td>\n",
       "      <td>No</td>\n",
       "      <td>Sun</td>\n",
       "      <td>Dinner</td>\n",
       "      <td>3</td>\n",
       "    </tr>\n",
       "    <tr>\n",
       "      <th>3</th>\n",
       "      <td>17.06</td>\n",
       "      <td>3.31</td>\n",
       "      <td>Male</td>\n",
       "      <td>No</td>\n",
       "      <td>Sun</td>\n",
       "      <td>Dinner</td>\n",
       "      <td>2</td>\n",
       "    </tr>\n",
       "    <tr>\n",
       "      <th>4</th>\n",
       "      <td>17.37</td>\n",
       "      <td>3.61</td>\n",
       "      <td>Female</td>\n",
       "      <td>No</td>\n",
       "      <td>Sun</td>\n",
       "      <td>Dinner</td>\n",
       "      <td>4</td>\n",
       "    </tr>\n",
       "  </tbody>\n",
       "</table>\n",
       "</div>"
      ],
      "text/plain": [
       "   total_bill   tip     sex smoker  day    time  size\n",
       "0       14.97  1.01  Female     No  Sun  Dinner     2\n",
       "1        7.02  1.66    Male     No  Sun  Dinner     3\n",
       "2       14.01  3.50    Male     No  Sun  Dinner     3\n",
       "3       17.06  3.31    Male     No  Sun  Dinner     2\n",
       "4       17.37  3.61  Female     No  Sun  Dinner     4"
      ]
     },
     "execution_count": 68,
     "metadata": {},
     "output_type": "execute_result"
    }
   ],
   "source": [
    "df.head()"
   ]
  },
  {
   "cell_type": "code",
   "execution_count": 69,
   "id": "5834d416",
   "metadata": {},
   "outputs": [
    {
     "data": {
      "text/plain": [
       "<Axes: xlabel='tip', ylabel='total_bill'>"
      ]
     },
     "execution_count": 69,
     "metadata": {},
     "output_type": "execute_result"
    },
    {
     "data": {
      "image/png": "[encoded data removed]",
      "text/plain": [
       "<Figure size 640x480 with 1 Axes>"
      ]
     },
     "metadata": {},
     "output_type": "display_data"
    }
   ],
   "source": [
    "df.plot.scatter(\"tip\",\"total_bill\")"
   ]
  },
  {
   "cell_type": "markdown",
   "id": "bdb93feb",
   "metadata": {},
   "source": [
    "## VARSAYIM KONTROLÜ  "
   ]
  },
  {
   "cell_type": "code",
   "execution_count": 71,
   "id": "22b632a4",
   "metadata": {},
   "outputs": [],
   "source": [
    "from scipy.stats import shapiro"
   ]
  },
  {
   "cell_type": "code",
   "execution_count": 73,
   "id": "98e151fe",
   "metadata": {},
   "outputs": [
    {
     "name": "stdout",
     "output_type": "stream",
     "text": [
      "test istatistiği = 0.8978,p-değeri= 0.0000\n",
      "test istatistiği = 0.9073,p-değeri= 0.0000\n"
     ]
    }
   ],
   "source": [
    "test_istatistigi ,pvalue = shapiro(df[\"tip\"])\n",
    "print('test istatistiği = %.4f,p-değeri= %.4f' % (test_istatistigi,pvalue))\n",
    "\n",
    "test_istatistigi ,pvalue = shapiro(df[\"total_bill\"])\n",
    "print('test istatistiği = %.4f,p-değeri= %.4f' % (test_istatistigi,pvalue))"
   ]
  },
  {
   "cell_type": "code",
   "execution_count": 74,
   "id": "ef9bd492",
   "metadata": {},
   "outputs": [],
   "source": [
    "# ikiside 0,05 den küçük normal varsayımı olmaz.\n",
    "# reddettiğinden dolayı anlamlı bir farklılık var demektir.\n",
    "# teoirk dağılımla normal dağılım farklıdır."
   ]
  },
  {
   "cell_type": "code",
   "execution_count": 75,
   "id": "78dee6ed",
   "metadata": {},
   "outputs": [],
   "source": [
    "# öncelikle sağlanıyormuş gibi parametrik testi yapacağız \n",
    "# sonrasında sağlanmadığını zaten biliyoruz nonparametrik testini yapacağız."
   ]
  },
  {
   "cell_type": "markdown",
   "id": "23bece53",
   "metadata": {},
   "source": [
    "## HİPOTEZ TESTİ "
   ]
  },
  {
   "cell_type": "markdown",
   "id": "54748a17",
   "metadata": {},
   "source": [
    "### KORELASYON KATSAYISI "
   ]
  },
  {
   "cell_type": "code",
   "execution_count": 79,
   "id": "08f61f5d",
   "metadata": {},
   "outputs": [
    {
     "data": {
      "text/plain": [
       "0.44362654305917865"
      ]
     },
     "execution_count": 79,
     "metadata": {},
     "output_type": "execute_result"
    }
   ],
   "source": [
    "df[\"tip\"].corr(df[\"total_bill\"])   # pearsen korelasyon katsayısı verildi.\n",
    "# peraseon korelasyon katsayısı normal varsayım olduğunda kullanılıyordu.\n",
    "# bu yüzden spearmana ihtiyaç var."
   ]
  },
  {
   "cell_type": "code",
   "execution_count": 80,
   "id": "fb512f46",
   "metadata": {},
   "outputs": [
    {
     "data": {
      "text/plain": [
       "0.47840852330002187"
      ]
     },
     "execution_count": 80,
     "metadata": {},
     "output_type": "execute_result"
    }
   ],
   "source": [
    "df[\"tip\"].corr(df[\"total_bill\"],method = \"spearman\") \n",
    "# normal varsayım sağlanmadığı için speraman korelasyon katsayısını aldık."
   ]
  },
  {
   "cell_type": "markdown",
   "id": "9666f8c4",
   "metadata": {},
   "source": [
    "### korelasyon anlamlılığının testi"
   ]
  },
  {
   "cell_type": "code",
   "execution_count": 82,
   "id": "16f4b800",
   "metadata": {},
   "outputs": [
    {
     "name": "stderr",
     "output_type": "stream",
     "text": [
      "C:\\Users\\MSI\\AppData\\Local\\Temp\\ipykernel_17088\\4005289447.py:1: DeprecationWarning: Please use `pearsonr` from the `scipy.stats` namespace, the `scipy.stats.stats` namespace is deprecated.\n",
      "  from scipy.stats.stats import pearsonr\n"
     ]
    }
   ],
   "source": [
    "from scipy.stats.stats import pearsonr"
   ]
  },
  {
   "cell_type": "code",
   "execution_count": 87,
   "id": "b1b18ca3",
   "metadata": {},
   "outputs": [
    {
     "name": "stdout",
     "output_type": "stream",
     "text": [
      "korelasyon katsayııs = 0.4436, p-değeri = 0.0000\n"
     ]
    }
   ],
   "source": [
    "test_istatistigi,pvalue = pearsonr(df[\"tip\"],df[\"total_bill\"])\n",
    "\n",
    "print('korelasyon katsayııs = %.4f, p-değeri = %.4f' % (test_istatistigi,pvalue))\n",
    "\n",
    "# değişkenler arasında anlamlı bir ilişki yoktur diyen h0 hipotezini redddeiyoruz.anlamlı bir korelasyon vardır diyoruz."
   ]
  },
  {
   "cell_type": "markdown",
   "id": "a26b2be0",
   "metadata": {},
   "source": [
    "### Nonparametrik hipotez testi"
   ]
  },
  {
   "cell_type": "code",
   "execution_count": 88,
   "id": "21db0776",
   "metadata": {},
   "outputs": [
    {
     "name": "stderr",
     "output_type": "stream",
     "text": [
      "C:\\Users\\MSI\\AppData\\Local\\Temp\\ipykernel_17088\\1772174929.py:2: DeprecationWarning: Please use `spearmanr` from the `scipy.stats` namespace, the `scipy.stats.stats` namespace is deprecated.\n",
      "  stats.spearmanr(df[\"tip\"],df[\"total_bill\"])\n"
     ]
    },
    {
     "data": {
      "text/plain": [
       "SignificanceResult(statistic=0.47840852330002187, pvalue=2.3232643717153163e-15)"
      ]
     },
     "execution_count": 88,
     "metadata": {},
     "output_type": "execute_result"
    }
   ],
   "source": [
    "from scipy.stats import stats\n",
    "stats.spearmanr(df[\"tip\"],df[\"total_bill\"])"
   ]
  },
  {
   "cell_type": "code",
   "execution_count": 90,
   "id": "053f4095",
   "metadata": {},
   "outputs": [
    {
     "name": "stdout",
     "output_type": "stream",
     "text": [
      "korelasyon katsayısı = 0.4784, p-değeri = 0.0000\n"
     ]
    },
    {
     "name": "stderr",
     "output_type": "stream",
     "text": [
      "C:\\Users\\MSI\\AppData\\Local\\Temp\\ipykernel_17088\\2675115091.py:1: DeprecationWarning: Please use `spearmanr` from the `scipy.stats` namespace, the `scipy.stats.stats` namespace is deprecated.\n",
      "  test_istatistigi,pvalue = stats.spearmanr(df[\"tip\"],df[\"total_bill\"])\n"
     ]
    }
   ],
   "source": [
    "test_istatistigi,pvalue = stats.spearmanr(df[\"tip\"],df[\"total_bill\"])\n",
    "\n",
    "print('korelasyon katsayısı = %.4f, p-değeri = %.4f' % (test_istatistigi,pvalue))\n",
    "\n",
    "\n",
    "# h0 anlamlı bir korelasyon yoktur hipotezi 0,05 den küçük old. için reddedilir.\n",
    "# değişkenler arasında anlamlı bir korelasyon vardır.\n"
   ]
  },
  {
   "cell_type": "code",
   "execution_count": 93,
   "id": "7eafc8fa",
   "metadata": {
    "scrolled": true
   },
   "outputs": [
    {
     "name": "stdout",
     "output_type": "stream",
     "text": [
      "korelasyon katsayısı = 0.3449, p-değeri = 0.0000\n"
     ]
    },
    {
     "name": "stderr",
     "output_type": "stream",
     "text": [
      "C:\\Users\\MSI\\AppData\\Local\\Temp\\ipykernel_17088\\3937529776.py:1: DeprecationWarning: Please use `kendalltau` from the `scipy.stats` namespace, the `scipy.stats.stats` namespace is deprecated.\n",
      "  test_istatistigi,pvalue = stats.kendalltau(df[\"tip\"],df[\"total_bill\"])\n"
     ]
    }
   ],
   "source": [
    "test_istatistigi,pvalue = stats.kendalltau(df[\"tip\"],df[\"total_bill\"])\n",
    "\n",
    "print('korelasyon katsayısı = %.4f, p-değeri = %.4f' % (test_istatistigi,pvalue))\n",
    "\n",
    "\n",
    "# kendalltau yaptık.\n",
    "#biraz daha temkinli bir korelasyon katsayısı diyebiliriz."
   ]
  },
  {
   "cell_type": "code",
   "execution_count": null,
   "id": "e58d6e0c",
   "metadata": {},
   "outputs": [],
   "source": []
  }
 ],
 "metadata": {
  "kernelspec": {
   "display_name": "Python 3 (ipykernel)",
   "language": "python",
   "name": "python3"
  },
  "language_info": {
   "codemirror_mode": {
    "name": "ipython",
    "version": 3
   },
   "file_extension": ".py",
   "mimetype": "text/x-python",
   "name": "python",
   "nbconvert_exporter": "python",
   "pygments_lexer": "ipython3",
   "version": "3.11.5"
  }
 },
 "nbformat": 4,
 "nbformat_minor": 5
}
